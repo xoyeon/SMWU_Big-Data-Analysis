{
  "nbformat": 4,
  "nbformat_minor": 0,
  "metadata": {
    "colab": {
      "name": "텐서플로우 기초연산(2).ipynb",
      "provenance": [],
      "collapsed_sections": [],
      "authorship_tag": "ABX9TyOWNdcKPS3Ymd9sSwcdN8O6",
      "include_colab_link": true
    },
    "kernelspec": {
      "name": "python3",
      "display_name": "Python 3"
    },
    "language_info": {
      "name": "python"
    }
  },
  "cells": [
    {
      "cell_type": "markdown",
      "metadata": {
        "id": "view-in-github",
        "colab_type": "text"
      },
      "source": [
        "<a href=\"https://colab.research.google.com/github/xoyeon/SMWU_Big-Data-Analysis/blob/main/%ED%85%90%EC%84%9C%ED%94%8C%EB%A1%9C%EC%9A%B0_%EA%B8%B0%EC%B4%88%EC%97%B0%EC%82%B0.ipynb\" target=\"_parent\"><img src=\"https://colab.research.google.com/assets/colab-badge.svg\" alt=\"Open In Colab\"/></a>"
      ]
    },
    {
      "cell_type": "code",
      "execution_count": null,
      "metadata": {
        "id": "qoyeTZ523mA7"
      },
      "outputs": [],
      "source": [
        "import tensorflow as tf"
      ]
    },
    {
      "cell_type": "code",
      "source": [
        "# 실수 변수형 텐서\n",
        "s = tf.Variable(1.0)\n",
        "\n",
        "# 벡터 변수형 텐서\n",
        "v = tf.Variable(tf.ones((2,)))\n",
        "\n",
        "# 행렬 변수형 텐서\n",
        "x = tf.Variable(tf.ones((2,1)))"
      ],
      "metadata": {
        "id": "Vpgmd_Td5808"
      },
      "execution_count": null,
      "outputs": []
    },
    {
      "cell_type": "code",
      "source": [
        "# 변수 선언\n",
        "W = tf.Variable(tf.ones(shape=(2,2)), name=\"W\")\n",
        "b = tf.Variable(tf.zeros(shape=(2)), name=\"b\")"
      ],
      "metadata": {
        "id": "9Q_D8TVV6J_a"
      },
      "execution_count": null,
      "outputs": []
    },
    {
      "cell_type": "code",
      "source": [
        "# 수식 정의\n",
        "@tf.function\n",
        "def forward(x):\n",
        "  return W*x+b"
      ],
      "metadata": {
        "id": "kQ7yDSDI7Jxa"
      },
      "execution_count": null,
      "outputs": []
    },
    {
      "cell_type": "code",
      "source": [
        "out_a = forward([1,0])\n",
        "\n",
        "print(out_a)           # 텐서 그대로 출력하기\n",
        "print(out_a.numpy())   # 값만 출력하기"
      ],
      "metadata": {
        "colab": {
          "base_uri": "https://localhost:8080/"
        },
        "id": "8zkU1O7M9mZX",
        "outputId": "dcbe376f-0698-47dc-90ce-31fbacff804a"
      },
      "execution_count": null,
      "outputs": [
        {
          "output_type": "stream",
          "name": "stdout",
          "text": [
            "tf.Tensor(\n",
            "[[1. 0.]\n",
            " [1. 0.]], shape=(2, 2), dtype=float32)\n",
            "[[1. 0.]\n",
            " [1. 0.]]\n"
          ]
        }
      ]
    },
    {
      "cell_type": "markdown",
      "source": [
        "# 1차원 배열 및 텐서를 선언해보자"
      ],
      "metadata": {
        "id": "rSyJsoclAXAw"
      }
    },
    {
      "cell_type": "code",
      "source": [
        "# 배열을 생성하기 위해 numpy 사용\n",
        "import numpy as np"
      ],
      "metadata": {
        "id": "7lSp-h6c_mpz"
      },
      "execution_count": null,
      "outputs": []
    },
    {
      "cell_type": "code",
      "source": [
        "# 1차원 배열 생성\n",
        "array_1d = np.array([1.3, 1, 4.0, 23.99])\n",
        "print(array_1d)"
      ],
      "metadata": {
        "colab": {
          "base_uri": "https://localhost:8080/"
        },
        "id": "Hh1d0JRdAyA7",
        "outputId": "74393db5-43e5-4525-d4d5-e17fed11b678"
      },
      "execution_count": null,
      "outputs": [
        {
          "output_type": "stream",
          "name": "stdout",
          "text": [
            "[ 1.3   1.    4.   23.99]\n"
          ]
        }
      ]
    },
    {
      "cell_type": "code",
      "source": [
        "# 배열 각 요소에 접근하기\n",
        "print(array_1d[0])"
      ],
      "metadata": {
        "colab": {
          "base_uri": "https://localhost:8080/"
        },
        "id": "04lH0INvBqNg",
        "outputId": "2cc806f4-4572-42f7-cddc-bc3991402dbb"
      },
      "execution_count": null,
      "outputs": [
        {
          "output_type": "stream",
          "name": "stdout",
          "text": [
            "1.3\n"
          ]
        }
      ]
    },
    {
      "cell_type": "code",
      "source": [
        "# 배열을 텐서로 변환하기\n",
        "tf_1d = tf.convert_to_tensor(array_1d, dtype = tf.float64)\n",
        "print(tf_1d)"
      ],
      "metadata": {
        "colab": {
          "base_uri": "https://localhost:8080/"
        },
        "id": "Pkep0oTXBqy-",
        "outputId": "697a89e4-09d2-46c1-b395-6276d31c1935"
      },
      "execution_count": null,
      "outputs": [
        {
          "output_type": "stream",
          "name": "stdout",
          "text": [
            "tf.Tensor([ 1.3   1.    4.   23.99], shape=(4,), dtype=float64)\n"
          ]
        }
      ]
    },
    {
      "cell_type": "code",
      "source": [
        "# 텐서의 기본 속성인 rank는 다음과 같이 조회할 수 있다.\n",
        "print(tf_1d.ndim)"
      ],
      "metadata": {
        "colab": {
          "base_uri": "https://localhost:8080/"
        },
        "id": "EUUlUIAyBrJy",
        "outputId": "d56357e7-58e4-4b2d-914d-eecdc6cdafd9"
      },
      "execution_count": null,
      "outputs": [
        {
          "output_type": "stream",
          "name": "stdout",
          "text": [
            "1\n"
          ]
        }
      ]
    },
    {
      "cell_type": "code",
      "source": [
        "# 텐서의 차원은 다음과 같이 튜플 형식으로 조회된다.\n",
        "print(tf_1d.shape[0])"
      ],
      "metadata": {
        "colab": {
          "base_uri": "https://localhost:8080/"
        },
        "id": "1xleo7leBrOx",
        "outputId": "33497575-0421-45b0-db68-3d502ef5b84f"
      },
      "execution_count": null,
      "outputs": [
        {
          "output_type": "stream",
          "name": "stdout",
          "text": [
            "4\n"
          ]
        }
      ]
    },
    {
      "cell_type": "code",
      "source": [
        "# 텐서의 형상은 하나의 행에 네 개의 열이 있다는 의미다.\n",
        "# 텐서의 자료 구조는 다음과 같이 조회할 수 있다.\n",
        "print(tf_1d.dtype)"
      ],
      "metadata": {
        "colab": {
          "base_uri": "https://localhost:8080/"
        },
        "id": "TvvXUw7KBrTx",
        "outputId": "ddb3d831-e696-4474-e40c-686a2de74dff"
      },
      "execution_count": null,
      "outputs": [
        {
          "output_type": "stream",
          "name": "stdout",
          "text": [
            "<dtype: 'float64'>\n"
          ]
        }
      ]
    },
    {
      "cell_type": "code",
      "source": [
        "# 일차원 수열 텐서를 만들 때는 range 또는 linspace 등의 메서드 사용\n",
        "ex_tf = tf.range(5)\n",
        "print(ex_tf)\n",
        "print(ex_tf[0])\n",
        "print(ex_tf[1])\n",
        "print(ex_tf[2])\n",
        "print(ex_tf[3])"
      ],
      "metadata": {
        "colab": {
          "base_uri": "https://localhost:8080/"
        },
        "id": "sszIbg5hCG4l",
        "outputId": "f1a9d55e-5d3d-47cc-c626-019b1967a539"
      },
      "execution_count": null,
      "outputs": [
        {
          "output_type": "stream",
          "name": "stdout",
          "text": [
            "tf.Tensor([0 1 2 3 4], shape=(5,), dtype=int32)\n",
            "tf.Tensor(0, shape=(), dtype=int32)\n",
            "tf.Tensor(1, shape=(), dtype=int32)\n",
            "tf.Tensor(2, shape=(), dtype=int32)\n",
            "tf.Tensor(3, shape=(), dtype=int32)\n"
          ]
        }
      ]
    },
    {
      "cell_type": "code",
      "source": [
        "# 0 또는 1로 구성 된 텐서\n",
        "ones = tf.zeros((2,3))\n",
        "print(ones)"
      ],
      "metadata": {
        "colab": {
          "base_uri": "https://localhost:8080/"
        },
        "id": "X0NmqeGDCXXy",
        "outputId": "0d4c6dfc-1ae7-49d5-8fbe-942b4c81ef42"
      },
      "execution_count": null,
      "outputs": [
        {
          "output_type": "stream",
          "name": "stdout",
          "text": [
            "tf.Tensor(\n",
            "[[0. 0. 0.]\n",
            " [0. 0. 0.]], shape=(2, 3), dtype=float32)\n"
          ]
        }
      ]
    },
    {
      "cell_type": "markdown",
      "source": [
        "# 2차원 텐서를 선언해보자"
      ],
      "metadata": {
        "id": "cpEgl6T9DCxw"
      }
    },
    {
      "cell_type": "code",
      "source": [
        "# 2차원 배열 및 텐서 만들기\n",
        "array_2d = np.array([(1,2,3,4),\n",
        "                     (4,5,6,7),\n",
        "                     (8,9,10,11),\n",
        "                     (12,13,14,15)])\n",
        "print(array_2d)"
      ],
      "metadata": {
        "colab": {
          "base_uri": "https://localhost:8080/"
        },
        "id": "DMpnm4TEC-JX",
        "outputId": "714077a2-4e1d-4374-d74c-eadd0452bbc9"
      },
      "execution_count": null,
      "outputs": [
        {
          "output_type": "stream",
          "name": "stdout",
          "text": [
            "[[ 1  2  3  4]\n",
            " [ 4  5  6  7]\n",
            " [ 8  9 10 11]\n",
            " [12 13 14 15]]\n"
          ]
        }
      ]
    },
    {
      "cell_type": "code",
      "source": [
        "# constant 상수로 바꿔줌\n",
        "tensor_2d = tf.constant(array_2d)\n",
        "print(tensor_2d)"
      ],
      "metadata": {
        "colab": {
          "base_uri": "https://localhost:8080/"
        },
        "id": "n353_xMfDTcK",
        "outputId": "1354d540-430c-4b5e-84cb-3f5124769af7"
      },
      "execution_count": null,
      "outputs": [
        {
          "output_type": "stream",
          "name": "stdout",
          "text": [
            "tf.Tensor(\n",
            "[[ 1  2  3  4]\n",
            " [ 4  5  6  7]\n",
            " [ 8  9 10 11]\n",
            " [12 13 14 15]], shape=(4, 4), dtype=int64)\n"
          ]
        }
      ]
    },
    {
      "cell_type": "code",
      "source": [
        "tf_3d = np.array([[[1,2], [3,4], [5,6], [7,8]]])\n",
        "print(tf_3d)"
      ],
      "metadata": {
        "colab": {
          "base_uri": "https://localhost:8080/"
        },
        "id": "mXuS4uhADZSA",
        "outputId": "2806a516-ed8e-48c6-d17e-c13baa073028"
      },
      "execution_count": null,
      "outputs": [
        {
          "output_type": "stream",
          "name": "stdout",
          "text": [
            "[[[1 2]\n",
            "  [3 4]\n",
            "  [5 6]\n",
            "  [7 8]]]\n"
          ]
        }
      ]
    },
    {
      "cell_type": "code",
      "source": [
        "print(tf_3d[0,3,1])"
      ],
      "metadata": {
        "colab": {
          "base_uri": "https://localhost:8080/"
        },
        "id": "Yvam3Vj1DxzR",
        "outputId": "e146cdcb-5f89-4945-f6f6-d6c8558ead4b"
      },
      "execution_count": null,
      "outputs": [
        {
          "output_type": "stream",
          "name": "stdout",
          "text": [
            "8\n"
          ]
        }
      ]
    }
  ]
}