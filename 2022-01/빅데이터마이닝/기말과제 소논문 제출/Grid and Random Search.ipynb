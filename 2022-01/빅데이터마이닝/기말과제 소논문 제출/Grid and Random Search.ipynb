{
 "cells": [
  {
   "cell_type": "code",
   "execution_count": 1,
   "id": "adf3713c",
   "metadata": {},
   "outputs": [],
   "source": [
    "import pandas as pd\n",
    "import numpy as np"
   ]
  },
  {
   "cell_type": "code",
   "execution_count": 2,
   "id": "97b766d8",
   "metadata": {},
   "outputs": [
    {
     "data": {
      "text/html": [
       "<div>\n",
       "<style scoped>\n",
       "    .dataframe tbody tr th:only-of-type {\n",
       "        vertical-align: middle;\n",
       "    }\n",
       "\n",
       "    .dataframe tbody tr th {\n",
       "        vertical-align: top;\n",
       "    }\n",
       "\n",
       "    .dataframe thead th {\n",
       "        text-align: right;\n",
       "    }\n",
       "</style>\n",
       "<table border=\"1\" class=\"dataframe\">\n",
       "  <thead>\n",
       "    <tr style=\"text-align: right;\">\n",
       "      <th></th>\n",
       "      <th>id</th>\n",
       "      <th>week</th>\n",
       "      <th>center_id</th>\n",
       "      <th>city_code</th>\n",
       "      <th>region_code</th>\n",
       "      <th>center_type</th>\n",
       "      <th>op_area</th>\n",
       "      <th>meal_id</th>\n",
       "      <th>category</th>\n",
       "      <th>cuisine</th>\n",
       "      <th>checkout_price</th>\n",
       "      <th>base_price</th>\n",
       "      <th>emailer_for_promotion</th>\n",
       "      <th>homepage_featured</th>\n",
       "      <th>num_orders</th>\n",
       "    </tr>\n",
       "  </thead>\n",
       "  <tbody>\n",
       "    <tr>\n",
       "      <th>0</th>\n",
       "      <td>1379560</td>\n",
       "      <td>1</td>\n",
       "      <td>55</td>\n",
       "      <td>647</td>\n",
       "      <td>56</td>\n",
       "      <td>TYPE_C</td>\n",
       "      <td>2.0</td>\n",
       "      <td>1885</td>\n",
       "      <td>Beverages</td>\n",
       "      <td>Thai</td>\n",
       "      <td>136.83</td>\n",
       "      <td>152.29</td>\n",
       "      <td>0</td>\n",
       "      <td>0</td>\n",
       "      <td>177</td>\n",
       "    </tr>\n",
       "    <tr>\n",
       "      <th>1</th>\n",
       "      <td>1466964</td>\n",
       "      <td>1</td>\n",
       "      <td>55</td>\n",
       "      <td>647</td>\n",
       "      <td>56</td>\n",
       "      <td>TYPE_C</td>\n",
       "      <td>2.0</td>\n",
       "      <td>1993</td>\n",
       "      <td>Beverages</td>\n",
       "      <td>Thai</td>\n",
       "      <td>136.83</td>\n",
       "      <td>135.83</td>\n",
       "      <td>0</td>\n",
       "      <td>0</td>\n",
       "      <td>270</td>\n",
       "    </tr>\n",
       "    <tr>\n",
       "      <th>2</th>\n",
       "      <td>1346989</td>\n",
       "      <td>1</td>\n",
       "      <td>55</td>\n",
       "      <td>647</td>\n",
       "      <td>56</td>\n",
       "      <td>TYPE_C</td>\n",
       "      <td>2.0</td>\n",
       "      <td>2539</td>\n",
       "      <td>Beverages</td>\n",
       "      <td>Thai</td>\n",
       "      <td>134.86</td>\n",
       "      <td>135.86</td>\n",
       "      <td>0</td>\n",
       "      <td>0</td>\n",
       "      <td>189</td>\n",
       "    </tr>\n",
       "    <tr>\n",
       "      <th>3</th>\n",
       "      <td>1338232</td>\n",
       "      <td>1</td>\n",
       "      <td>55</td>\n",
       "      <td>647</td>\n",
       "      <td>56</td>\n",
       "      <td>TYPE_C</td>\n",
       "      <td>2.0</td>\n",
       "      <td>2139</td>\n",
       "      <td>Beverages</td>\n",
       "      <td>Indian</td>\n",
       "      <td>339.50</td>\n",
       "      <td>437.53</td>\n",
       "      <td>0</td>\n",
       "      <td>0</td>\n",
       "      <td>54</td>\n",
       "    </tr>\n",
       "    <tr>\n",
       "      <th>4</th>\n",
       "      <td>1448490</td>\n",
       "      <td>1</td>\n",
       "      <td>55</td>\n",
       "      <td>647</td>\n",
       "      <td>56</td>\n",
       "      <td>TYPE_C</td>\n",
       "      <td>2.0</td>\n",
       "      <td>2631</td>\n",
       "      <td>Beverages</td>\n",
       "      <td>Indian</td>\n",
       "      <td>243.50</td>\n",
       "      <td>242.50</td>\n",
       "      <td>0</td>\n",
       "      <td>0</td>\n",
       "      <td>40</td>\n",
       "    </tr>\n",
       "  </tbody>\n",
       "</table>\n",
       "</div>"
      ],
      "text/plain": [
       "        id  week  center_id  city_code  region_code center_type  op_area  \\\n",
       "0  1379560     1         55        647           56      TYPE_C      2.0   \n",
       "1  1466964     1         55        647           56      TYPE_C      2.0   \n",
       "2  1346989     1         55        647           56      TYPE_C      2.0   \n",
       "3  1338232     1         55        647           56      TYPE_C      2.0   \n",
       "4  1448490     1         55        647           56      TYPE_C      2.0   \n",
       "\n",
       "   meal_id   category cuisine  checkout_price  base_price  \\\n",
       "0     1885  Beverages    Thai          136.83      152.29   \n",
       "1     1993  Beverages    Thai          136.83      135.83   \n",
       "2     2539  Beverages    Thai          134.86      135.86   \n",
       "3     2139  Beverages  Indian          339.50      437.53   \n",
       "4     2631  Beverages  Indian          243.50      242.50   \n",
       "\n",
       "   emailer_for_promotion  homepage_featured  num_orders  \n",
       "0                      0                  0         177  \n",
       "1                      0                  0         270  \n",
       "2                      0                  0         189  \n",
       "3                      0                  0          54  \n",
       "4                      0                  0          40  "
      ]
     },
     "execution_count": 2,
     "metadata": {},
     "output_type": "execute_result"
    }
   ],
   "source": [
    "df = pd.read_csv(\"C:\\\\Users\\\\SisLab\\\\!SOYEON\\\\train_df.csv\")\n",
    "df.head()"
   ]
  },
  {
   "cell_type": "markdown",
   "id": "e8ca9a14",
   "metadata": {},
   "source": [
    "# onehot\n"
   ]
  },
  {
   "cell_type": "code",
   "execution_count": 3,
   "id": "eac25be3",
   "metadata": {
    "scrolled": true
   },
   "outputs": [
    {
     "data": {
      "text/html": [
       "<div>\n",
       "<style scoped>\n",
       "    .dataframe tbody tr th:only-of-type {\n",
       "        vertical-align: middle;\n",
       "    }\n",
       "\n",
       "    .dataframe tbody tr th {\n",
       "        vertical-align: top;\n",
       "    }\n",
       "\n",
       "    .dataframe thead th {\n",
       "        text-align: right;\n",
       "    }\n",
       "</style>\n",
       "<table border=\"1\" class=\"dataframe\">\n",
       "  <thead>\n",
       "    <tr style=\"text-align: right;\">\n",
       "      <th></th>\n",
       "      <th>id</th>\n",
       "      <th>week</th>\n",
       "      <th>center_id</th>\n",
       "      <th>city_code</th>\n",
       "      <th>region_code</th>\n",
       "      <th>op_area</th>\n",
       "      <th>meal_id</th>\n",
       "      <th>checkout_price</th>\n",
       "      <th>base_price</th>\n",
       "      <th>emailer_for_promotion</th>\n",
       "      <th>...</th>\n",
       "      <th>category_Rice Bowl</th>\n",
       "      <th>category_Salad</th>\n",
       "      <th>category_Sandwich</th>\n",
       "      <th>category_Seafood</th>\n",
       "      <th>category_Soup</th>\n",
       "      <th>category_Starters</th>\n",
       "      <th>cuisine_Continental</th>\n",
       "      <th>cuisine_Indian</th>\n",
       "      <th>cuisine_Italian</th>\n",
       "      <th>cuisine_Thai</th>\n",
       "    </tr>\n",
       "  </thead>\n",
       "  <tbody>\n",
       "    <tr>\n",
       "      <th>0</th>\n",
       "      <td>1379560</td>\n",
       "      <td>1</td>\n",
       "      <td>55</td>\n",
       "      <td>647</td>\n",
       "      <td>56</td>\n",
       "      <td>2.0</td>\n",
       "      <td>1885</td>\n",
       "      <td>136.83</td>\n",
       "      <td>152.29</td>\n",
       "      <td>0</td>\n",
       "      <td>...</td>\n",
       "      <td>0.0</td>\n",
       "      <td>0.0</td>\n",
       "      <td>0.0</td>\n",
       "      <td>0.0</td>\n",
       "      <td>0.0</td>\n",
       "      <td>0.0</td>\n",
       "      <td>0.0</td>\n",
       "      <td>0.0</td>\n",
       "      <td>0.0</td>\n",
       "      <td>1.0</td>\n",
       "    </tr>\n",
       "    <tr>\n",
       "      <th>1</th>\n",
       "      <td>1466964</td>\n",
       "      <td>1</td>\n",
       "      <td>55</td>\n",
       "      <td>647</td>\n",
       "      <td>56</td>\n",
       "      <td>2.0</td>\n",
       "      <td>1993</td>\n",
       "      <td>136.83</td>\n",
       "      <td>135.83</td>\n",
       "      <td>0</td>\n",
       "      <td>...</td>\n",
       "      <td>0.0</td>\n",
       "      <td>0.0</td>\n",
       "      <td>0.0</td>\n",
       "      <td>0.0</td>\n",
       "      <td>0.0</td>\n",
       "      <td>0.0</td>\n",
       "      <td>0.0</td>\n",
       "      <td>0.0</td>\n",
       "      <td>0.0</td>\n",
       "      <td>1.0</td>\n",
       "    </tr>\n",
       "    <tr>\n",
       "      <th>2</th>\n",
       "      <td>1346989</td>\n",
       "      <td>1</td>\n",
       "      <td>55</td>\n",
       "      <td>647</td>\n",
       "      <td>56</td>\n",
       "      <td>2.0</td>\n",
       "      <td>2539</td>\n",
       "      <td>134.86</td>\n",
       "      <td>135.86</td>\n",
       "      <td>0</td>\n",
       "      <td>...</td>\n",
       "      <td>0.0</td>\n",
       "      <td>0.0</td>\n",
       "      <td>0.0</td>\n",
       "      <td>0.0</td>\n",
       "      <td>0.0</td>\n",
       "      <td>0.0</td>\n",
       "      <td>0.0</td>\n",
       "      <td>0.0</td>\n",
       "      <td>0.0</td>\n",
       "      <td>1.0</td>\n",
       "    </tr>\n",
       "    <tr>\n",
       "      <th>3</th>\n",
       "      <td>1338232</td>\n",
       "      <td>1</td>\n",
       "      <td>55</td>\n",
       "      <td>647</td>\n",
       "      <td>56</td>\n",
       "      <td>2.0</td>\n",
       "      <td>2139</td>\n",
       "      <td>339.50</td>\n",
       "      <td>437.53</td>\n",
       "      <td>0</td>\n",
       "      <td>...</td>\n",
       "      <td>0.0</td>\n",
       "      <td>0.0</td>\n",
       "      <td>0.0</td>\n",
       "      <td>0.0</td>\n",
       "      <td>0.0</td>\n",
       "      <td>0.0</td>\n",
       "      <td>0.0</td>\n",
       "      <td>1.0</td>\n",
       "      <td>0.0</td>\n",
       "      <td>0.0</td>\n",
       "    </tr>\n",
       "    <tr>\n",
       "      <th>4</th>\n",
       "      <td>1448490</td>\n",
       "      <td>1</td>\n",
       "      <td>55</td>\n",
       "      <td>647</td>\n",
       "      <td>56</td>\n",
       "      <td>2.0</td>\n",
       "      <td>2631</td>\n",
       "      <td>243.50</td>\n",
       "      <td>242.50</td>\n",
       "      <td>0</td>\n",
       "      <td>...</td>\n",
       "      <td>0.0</td>\n",
       "      <td>0.0</td>\n",
       "      <td>0.0</td>\n",
       "      <td>0.0</td>\n",
       "      <td>0.0</td>\n",
       "      <td>0.0</td>\n",
       "      <td>0.0</td>\n",
       "      <td>1.0</td>\n",
       "      <td>0.0</td>\n",
       "      <td>0.0</td>\n",
       "    </tr>\n",
       "  </tbody>\n",
       "</table>\n",
       "<p>5 rows × 33 columns</p>\n",
       "</div>"
      ],
      "text/plain": [
       "        id  week  center_id  city_code  region_code  op_area  meal_id  \\\n",
       "0  1379560     1         55        647           56      2.0     1885   \n",
       "1  1466964     1         55        647           56      2.0     1993   \n",
       "2  1346989     1         55        647           56      2.0     2539   \n",
       "3  1338232     1         55        647           56      2.0     2139   \n",
       "4  1448490     1         55        647           56      2.0     2631   \n",
       "\n",
       "   checkout_price  base_price  emailer_for_promotion  ...  category_Rice Bowl  \\\n",
       "0          136.83      152.29                      0  ...                 0.0   \n",
       "1          136.83      135.83                      0  ...                 0.0   \n",
       "2          134.86      135.86                      0  ...                 0.0   \n",
       "3          339.50      437.53                      0  ...                 0.0   \n",
       "4          243.50      242.50                      0  ...                 0.0   \n",
       "\n",
       "   category_Salad  category_Sandwich  category_Seafood  category_Soup  \\\n",
       "0             0.0                0.0               0.0            0.0   \n",
       "1             0.0                0.0               0.0            0.0   \n",
       "2             0.0                0.0               0.0            0.0   \n",
       "3             0.0                0.0               0.0            0.0   \n",
       "4             0.0                0.0               0.0            0.0   \n",
       "\n",
       "   category_Starters  cuisine_Continental  cuisine_Indian  cuisine_Italian  \\\n",
       "0                0.0                  0.0             0.0              0.0   \n",
       "1                0.0                  0.0             0.0              0.0   \n",
       "2                0.0                  0.0             0.0              0.0   \n",
       "3                0.0                  0.0             1.0              0.0   \n",
       "4                0.0                  0.0             1.0              0.0   \n",
       "\n",
       "   cuisine_Thai  \n",
       "0           1.0  \n",
       "1           1.0  \n",
       "2           1.0  \n",
       "3           0.0  \n",
       "4           0.0  \n",
       "\n",
       "[5 rows x 33 columns]"
      ]
     },
     "execution_count": 3,
     "metadata": {},
     "output_type": "execute_result"
    }
   ],
   "source": [
    "from sklearn.preprocessing import OneHotEncoder\n",
    "\n",
    "ohe = OneHotEncoder(sparse=False)\n",
    "# center_type\n",
    "data_cat = ohe.fit_transform(df[['center_type']])\n",
    "df_center = pd.concat([df.drop(columns=['center_type']),pd.DataFrame(data_cat, columns=['center_type_' + str(col) for col in ohe.categories_[0]])], axis=1)\n",
    "\n",
    "# category\n",
    "data_cat = ohe.fit_transform(df[['category']])\n",
    "df_category = pd.concat([df_center.drop(columns=['category']),pd.DataFrame(data_cat, columns=['category_' + str(col) for col in ohe.categories_[0]])], axis=1)\n",
    "\n",
    "# cuisine\n",
    "data_cat = ohe.fit_transform(df[['cuisine']])\n",
    "train_df = pd.concat([df_category.drop(columns=['cuisine']),pd.DataFrame(data_cat, columns=['cuisine_' + str(col) for col in ohe.categories_[0]])], axis=1)\n",
    "\n",
    "train_df.head()"
   ]
  },
  {
   "cell_type": "markdown",
   "id": "5c22d47b",
   "metadata": {},
   "source": [
    "# split"
   ]
  },
  {
   "cell_type": "code",
   "execution_count": 4,
   "id": "a3e34176",
   "metadata": {},
   "outputs": [],
   "source": [
    "from sklearn.model_selection import train_test_split\n",
    "\n",
    "X = train_df.drop('num_orders', axis=1)\n",
    "y = train_df['num_orders']"
   ]
  },
  {
   "cell_type": "code",
   "execution_count": 5,
   "id": "70550ae8",
   "metadata": {},
   "outputs": [],
   "source": [
    "# train, test를 8:2로 나누기\n",
    "train_x, test_x, train_y, test_y = train_test_split(X, y, test_size=0.2, random_state=1)"
   ]
  },
  {
   "cell_type": "code",
   "execution_count": 6,
   "id": "e4b33891",
   "metadata": {},
   "outputs": [
    {
     "name": "stdout",
     "output_type": "stream",
     "text": [
      "(365238, 32)\n",
      "(91310, 32)\n",
      "(365238,)\n",
      "(91310,)\n"
     ]
    }
   ],
   "source": [
    "# shape 확인\n",
    "print(train_x.shape)\n",
    "print(test_x.shape)\n",
    "print(train_y.shape)\n",
    "print(test_y.shape)"
   ]
  },
  {
   "cell_type": "markdown",
   "id": "b0e5dceb",
   "metadata": {},
   "source": [
    "# scaling"
   ]
  },
  {
   "cell_type": "code",
   "execution_count": 7,
   "id": "cd0f65c8",
   "metadata": {},
   "outputs": [
    {
     "name": "stdout",
     "output_type": "stream",
     "text": [
      "\n",
      "MinMaxScaler: \n",
      "                   0              1              2              3   \\\n",
      "count  365238.000000  365238.000000  365238.000000  365238.000000   \n",
      "mean        0.500463       0.512199       0.409727       0.566405   \n",
      "std         0.288605       0.288422       0.261217       0.257554   \n",
      "min         0.000000       0.000000       0.000000       0.000000   \n",
      "25%         0.250648       0.263889       0.187500       0.377432   \n",
      "50%         0.500666       0.520833       0.375000       0.544747   \n",
      "75%         0.750459       0.763889       0.568182       0.758755   \n",
      "max         1.000000       1.000000       1.000000       1.000000   \n",
      "\n",
      "                  4              5              6              7   \\\n",
      "count  365238.000000  365238.000000  365238.000000  365238.000000   \n",
      "mean        0.480382       0.521916       0.508245       0.381322   \n",
      "std         0.251985       0.179139       0.289063       0.177079   \n",
      "min         0.000000       0.000000       0.000000       0.000000   \n",
      "25%         0.157143       0.442623       0.261880       0.261763   \n",
      "50%         0.471429       0.508197       0.491552       0.339326   \n",
      "75%         0.771429       0.590164       0.779831       0.512290   \n",
      "max         1.000000       1.000000       1.000000       1.000000   \n",
      "\n",
      "                  8              9   ...             22             23  \\\n",
      "count  365238.000000  365238.000000  ...  365238.000000  365238.000000   \n",
      "mean        0.368321       0.081136  ...       0.073169       0.062756   \n",
      "std         0.198021       0.273044  ...       0.260414       0.242525   \n",
      "min         0.000000       0.000000  ...       0.000000       0.000000   \n",
      "25%         0.232020       0.000000  ...       0.000000       0.000000   \n",
      "50%         0.314556       0.000000  ...       0.000000       0.000000   \n",
      "75%         0.497534       0.000000  ...       0.000000       0.000000   \n",
      "max         1.000000       1.000000  ...       1.000000       1.000000   \n",
      "\n",
      "                  24             25             26             27  \\\n",
      "count  365238.000000  365238.000000  365238.000000  365238.000000   \n",
      "mean        0.073024       0.058723       0.027886       0.065741   \n",
      "std         0.260176       0.235107       0.164646       0.247829   \n",
      "min         0.000000       0.000000       0.000000       0.000000   \n",
      "25%         0.000000       0.000000       0.000000       0.000000   \n",
      "50%         0.000000       0.000000       0.000000       0.000000   \n",
      "75%         0.000000       0.000000       0.000000       0.000000   \n",
      "max         1.000000       1.000000       1.000000       1.000000   \n",
      "\n",
      "                  28             29             30             31  \n",
      "count  365238.000000  365238.000000  365238.000000  365238.000000  \n",
      "mean        0.224722       0.246401       0.269413       0.259464  \n",
      "std         0.417400       0.430915       0.443656       0.438341  \n",
      "min         0.000000       0.000000       0.000000       0.000000  \n",
      "25%         0.000000       0.000000       0.000000       0.000000  \n",
      "50%         0.000000       0.000000       0.000000       0.000000  \n",
      "75%         0.000000       0.000000       1.000000       1.000000  \n",
      "max         1.000000       1.000000       1.000000       1.000000  \n",
      "\n",
      "[8 rows x 32 columns]\n"
     ]
    }
   ],
   "source": [
    "from sklearn.preprocessing import MinMaxScaler\n",
    "\n",
    "scaler = MinMaxScaler()\n",
    "scaler.fit(train_x)\n",
    "X_train_transformed = pd.DataFrame(scaler.transform(train_x))\n",
    "print(\"\\nMinMaxScaler: \\n\", X_train_transformed.describe())"
   ]
  },
  {
   "cell_type": "markdown",
   "id": "34f5c7eb",
   "metadata": {},
   "source": [
    "# Random Forest"
   ]
  },
  {
   "cell_type": "code",
   "execution_count": 8,
   "id": "cfd1f8d2",
   "metadata": {},
   "outputs": [],
   "source": [
    "# 모델 선언\n",
    "from sklearn.ensemble import RandomForestRegressor\n",
    "from sklearn.metrics import mean_squared_error\n",
    "\n",
    "rfr = RandomForestRegressor()"
   ]
  },
  {
   "cell_type": "code",
   "execution_count": null,
   "id": "bff4e7d4",
   "metadata": {},
   "outputs": [],
   "source": []
  },
  {
   "cell_type": "markdown",
   "id": "f1d50c20",
   "metadata": {},
   "source": [
    "# Grid"
   ]
  },
  {
   "cell_type": "code",
   "execution_count": 9,
   "id": "ca056701",
   "metadata": {},
   "outputs": [],
   "source": [
    "from sklearn.model_selection import GridSearchCV\n",
    "\n",
    "params = { 'n_estimators' : [10, 100],\n",
    "           'max_depth' : [6, 8, 10, 12],\n",
    "           'min_samples_leaf' : [8, 12, 18],\n",
    "           'min_samples_split' : [8, 16, 20]\n",
    "            }"
   ]
  },
  {
   "cell_type": "code",
   "execution_count": 10,
   "id": "857def11",
   "metadata": {},
   "outputs": [
    {
     "name": "stdout",
     "output_type": "stream",
     "text": [
      "Best Parameters :  {'max_depth': 12, 'min_samples_leaf': 8, 'min_samples_split': 16, 'n_estimators': 100}\n",
      "Best Score :  -93.14880040413281\n"
     ]
    }
   ],
   "source": [
    "gs_s = GridSearchCV(rfr, param_grid = params,  scoring = 'neg_mean_absolute_error')\n",
    "gs_s.fit(train_x, train_y)\n",
    "\n",
    "print(\"Best Parameters : \", gs_s.best_params_)\n",
    "print(\"Best Score : \", gs_s.best_score_)"
   ]
  },
  {
   "cell_type": "code",
   "execution_count": 11,
   "id": "8d41f79a",
   "metadata": {},
   "outputs": [
    {
     "data": {
      "text/plain": [
       "array([ 55.46666517, 305.67894781,  66.73821117, ..., 191.56087954,\n",
       "       305.97111182,  38.56165484])"
      ]
     },
     "execution_count": 11,
     "metadata": {},
     "output_type": "execute_result"
    }
   ],
   "source": [
    "test_gfs = gs_s.predict(test_x)\n",
    "test_gfs"
   ]
  },
  {
   "cell_type": "code",
   "execution_count": 12,
   "id": "bf512671",
   "metadata": {},
   "outputs": [
    {
     "data": {
      "text/plain": [
       "187.06133165766892"
      ]
     },
     "execution_count": 12,
     "metadata": {},
     "output_type": "execute_result"
    }
   ],
   "source": [
    "mean_squared_error(test_y, test_gfs, squared = True)**0.5"
   ]
  },
  {
   "cell_type": "code",
   "execution_count": 13,
   "id": "ce8ef5f5",
   "metadata": {},
   "outputs": [
    {
     "name": "stdout",
     "output_type": "stream",
     "text": [
      "0.7761488944169028\n"
     ]
    }
   ],
   "source": [
    "from sklearn.metrics import r2_score\n",
    "print(r2_score(test_y, test_gfs))"
   ]
  },
  {
   "cell_type": "markdown",
   "id": "1d301354",
   "metadata": {},
   "source": [
    "# Random"
   ]
  },
  {
   "cell_type": "code",
   "execution_count": 14,
   "id": "0a35a046",
   "metadata": {},
   "outputs": [],
   "source": [
    "from sklearn.model_selection import RandomizedSearchCV"
   ]
  },
  {
   "cell_type": "code",
   "execution_count": 15,
   "id": "69f1c3a0",
   "metadata": {},
   "outputs": [],
   "source": [
    "rfg = RandomForestRegressor()\n",
    "\n",
    "# Random Search 설정.\n",
    "rs_model = RandomizedSearchCV(rfg, params)"
   ]
  },
  {
   "cell_type": "code",
   "execution_count": 16,
   "id": "4047ff34",
   "metadata": {},
   "outputs": [
    {
     "data": {
      "text/plain": [
       "RandomizedSearchCV(estimator=RandomForestRegressor(),\n",
       "                   param_distributions={'max_depth': [6, 8, 10, 12],\n",
       "                                        'min_samples_leaf': [8, 12, 18],\n",
       "                                        'min_samples_split': [8, 16, 20],\n",
       "                                        'n_estimators': [10, 100]})"
      ]
     },
     "execution_count": 16,
     "metadata": {},
     "output_type": "execute_result"
    }
   ],
   "source": [
    "rs_model.fit(train_x, train_y)"
   ]
  },
  {
   "cell_type": "code",
   "execution_count": 17,
   "id": "85d51b0d",
   "metadata": {},
   "outputs": [
    {
     "data": {
      "text/plain": [
       "array([ 56.9933163 , 315.42697691,  69.32899252, ..., 185.2363508 ,\n",
       "       315.42697691,  39.44973243])"
      ]
     },
     "execution_count": 17,
     "metadata": {},
     "output_type": "execute_result"
    }
   ],
   "source": [
    "test_rs = rs_model.predict(test_x)\n",
    "test_rs"
   ]
  },
  {
   "cell_type": "code",
   "execution_count": 18,
   "id": "09798d50",
   "metadata": {},
   "outputs": [
    {
     "data": {
      "text/plain": [
       "188.4688329852593"
      ]
     },
     "execution_count": 18,
     "metadata": {},
     "output_type": "execute_result"
    }
   ],
   "source": [
    "mean_squared_error(test_y, test_rs, squared = True)**0.5"
   ]
  },
  {
   "cell_type": "code",
   "execution_count": 19,
   "id": "2b4b86c4",
   "metadata": {},
   "outputs": [
    {
     "name": "stdout",
     "output_type": "stream",
     "text": [
      "0.7727675855675611\n"
     ]
    }
   ],
   "source": [
    "print(r2_score(test_y, test_rs))"
   ]
  },
  {
   "cell_type": "code",
   "execution_count": null,
   "id": "8be27c67",
   "metadata": {},
   "outputs": [],
   "source": []
  }
 ],
 "metadata": {
  "kernelspec": {
   "display_name": "soyeon",
   "language": "python",
   "name": "soyeon"
  },
  "language_info": {
   "codemirror_mode": {
    "name": "ipython",
    "version": 3
   },
   "file_extension": ".py",
   "mimetype": "text/x-python",
   "name": "python",
   "nbconvert_exporter": "python",
   "pygments_lexer": "ipython3",
   "version": "3.9.12"
  }
 },
 "nbformat": 4,
 "nbformat_minor": 5
}
