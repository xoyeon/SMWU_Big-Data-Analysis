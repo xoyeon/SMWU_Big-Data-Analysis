{
 "cells": [
  {
   "cell_type": "code",
   "execution_count": 1,
   "id": "c1159d39",
   "metadata": {},
   "outputs": [],
   "source": [
    "import pandas as pd\n",
    "import numpy as np"
   ]
  },
  {
   "cell_type": "code",
   "execution_count": 2,
   "id": "a4575553",
   "metadata": {},
   "outputs": [
    {
     "data": {
      "text/html": [
       "<div>\n",
       "<style scoped>\n",
       "    .dataframe tbody tr th:only-of-type {\n",
       "        vertical-align: middle;\n",
       "    }\n",
       "\n",
       "    .dataframe tbody tr th {\n",
       "        vertical-align: top;\n",
       "    }\n",
       "\n",
       "    .dataframe thead th {\n",
       "        text-align: right;\n",
       "    }\n",
       "</style>\n",
       "<table border=\"1\" class=\"dataframe\">\n",
       "  <thead>\n",
       "    <tr style=\"text-align: right;\">\n",
       "      <th></th>\n",
       "      <th>id</th>\n",
       "      <th>week</th>\n",
       "      <th>center_id</th>\n",
       "      <th>city_code</th>\n",
       "      <th>region_code</th>\n",
       "      <th>center_type</th>\n",
       "      <th>op_area</th>\n",
       "      <th>meal_id</th>\n",
       "      <th>category</th>\n",
       "      <th>cuisine</th>\n",
       "      <th>checkout_price</th>\n",
       "      <th>base_price</th>\n",
       "      <th>emailer_for_promotion</th>\n",
       "      <th>homepage_featured</th>\n",
       "      <th>num_orders</th>\n",
       "    </tr>\n",
       "  </thead>\n",
       "  <tbody>\n",
       "    <tr>\n",
       "      <th>0</th>\n",
       "      <td>1379560</td>\n",
       "      <td>1</td>\n",
       "      <td>55</td>\n",
       "      <td>647</td>\n",
       "      <td>56</td>\n",
       "      <td>TYPE_C</td>\n",
       "      <td>2.0</td>\n",
       "      <td>1885</td>\n",
       "      <td>Beverages</td>\n",
       "      <td>Thai</td>\n",
       "      <td>136.83</td>\n",
       "      <td>152.29</td>\n",
       "      <td>0</td>\n",
       "      <td>0</td>\n",
       "      <td>177</td>\n",
       "    </tr>\n",
       "    <tr>\n",
       "      <th>1</th>\n",
       "      <td>1466964</td>\n",
       "      <td>1</td>\n",
       "      <td>55</td>\n",
       "      <td>647</td>\n",
       "      <td>56</td>\n",
       "      <td>TYPE_C</td>\n",
       "      <td>2.0</td>\n",
       "      <td>1993</td>\n",
       "      <td>Beverages</td>\n",
       "      <td>Thai</td>\n",
       "      <td>136.83</td>\n",
       "      <td>135.83</td>\n",
       "      <td>0</td>\n",
       "      <td>0</td>\n",
       "      <td>270</td>\n",
       "    </tr>\n",
       "    <tr>\n",
       "      <th>2</th>\n",
       "      <td>1346989</td>\n",
       "      <td>1</td>\n",
       "      <td>55</td>\n",
       "      <td>647</td>\n",
       "      <td>56</td>\n",
       "      <td>TYPE_C</td>\n",
       "      <td>2.0</td>\n",
       "      <td>2539</td>\n",
       "      <td>Beverages</td>\n",
       "      <td>Thai</td>\n",
       "      <td>134.86</td>\n",
       "      <td>135.86</td>\n",
       "      <td>0</td>\n",
       "      <td>0</td>\n",
       "      <td>189</td>\n",
       "    </tr>\n",
       "    <tr>\n",
       "      <th>3</th>\n",
       "      <td>1338232</td>\n",
       "      <td>1</td>\n",
       "      <td>55</td>\n",
       "      <td>647</td>\n",
       "      <td>56</td>\n",
       "      <td>TYPE_C</td>\n",
       "      <td>2.0</td>\n",
       "      <td>2139</td>\n",
       "      <td>Beverages</td>\n",
       "      <td>Indian</td>\n",
       "      <td>339.50</td>\n",
       "      <td>437.53</td>\n",
       "      <td>0</td>\n",
       "      <td>0</td>\n",
       "      <td>54</td>\n",
       "    </tr>\n",
       "    <tr>\n",
       "      <th>4</th>\n",
       "      <td>1448490</td>\n",
       "      <td>1</td>\n",
       "      <td>55</td>\n",
       "      <td>647</td>\n",
       "      <td>56</td>\n",
       "      <td>TYPE_C</td>\n",
       "      <td>2.0</td>\n",
       "      <td>2631</td>\n",
       "      <td>Beverages</td>\n",
       "      <td>Indian</td>\n",
       "      <td>243.50</td>\n",
       "      <td>242.50</td>\n",
       "      <td>0</td>\n",
       "      <td>0</td>\n",
       "      <td>40</td>\n",
       "    </tr>\n",
       "  </tbody>\n",
       "</table>\n",
       "</div>"
      ],
      "text/plain": [
       "        id  week  center_id  city_code  region_code center_type  op_area  \\\n",
       "0  1379560     1         55        647           56      TYPE_C      2.0   \n",
       "1  1466964     1         55        647           56      TYPE_C      2.0   \n",
       "2  1346989     1         55        647           56      TYPE_C      2.0   \n",
       "3  1338232     1         55        647           56      TYPE_C      2.0   \n",
       "4  1448490     1         55        647           56      TYPE_C      2.0   \n",
       "\n",
       "   meal_id   category cuisine  checkout_price  base_price  \\\n",
       "0     1885  Beverages    Thai          136.83      152.29   \n",
       "1     1993  Beverages    Thai          136.83      135.83   \n",
       "2     2539  Beverages    Thai          134.86      135.86   \n",
       "3     2139  Beverages  Indian          339.50      437.53   \n",
       "4     2631  Beverages  Indian          243.50      242.50   \n",
       "\n",
       "   emailer_for_promotion  homepage_featured  num_orders  \n",
       "0                      0                  0         177  \n",
       "1                      0                  0         270  \n",
       "2                      0                  0         189  \n",
       "3                      0                  0          54  \n",
       "4                      0                  0          40  "
      ]
     },
     "execution_count": 2,
     "metadata": {},
     "output_type": "execute_result"
    }
   ],
   "source": [
    "df = pd.read_csv(\"C:\\\\Users\\\\SisLab\\\\!SOYEON\\\\train_df.csv\")\n",
    "df.head()"
   ]
  },
  {
   "cell_type": "code",
   "execution_count": 3,
   "id": "29404d46",
   "metadata": {},
   "outputs": [
    {
     "data": {
      "text/html": [
       "<div>\n",
       "<style scoped>\n",
       "    .dataframe tbody tr th:only-of-type {\n",
       "        vertical-align: middle;\n",
       "    }\n",
       "\n",
       "    .dataframe tbody tr th {\n",
       "        vertical-align: top;\n",
       "    }\n",
       "\n",
       "    .dataframe thead th {\n",
       "        text-align: right;\n",
       "    }\n",
       "</style>\n",
       "<table border=\"1\" class=\"dataframe\">\n",
       "  <thead>\n",
       "    <tr style=\"text-align: right;\">\n",
       "      <th></th>\n",
       "      <th>id</th>\n",
       "      <th>week</th>\n",
       "      <th>center_id</th>\n",
       "      <th>city_code</th>\n",
       "      <th>region_code</th>\n",
       "      <th>op_area</th>\n",
       "      <th>meal_id</th>\n",
       "      <th>checkout_price</th>\n",
       "      <th>base_price</th>\n",
       "      <th>emailer_for_promotion</th>\n",
       "      <th>...</th>\n",
       "      <th>category_Rice Bowl</th>\n",
       "      <th>category_Salad</th>\n",
       "      <th>category_Sandwich</th>\n",
       "      <th>category_Seafood</th>\n",
       "      <th>category_Soup</th>\n",
       "      <th>category_Starters</th>\n",
       "      <th>cuisine_Continental</th>\n",
       "      <th>cuisine_Indian</th>\n",
       "      <th>cuisine_Italian</th>\n",
       "      <th>cuisine_Thai</th>\n",
       "    </tr>\n",
       "  </thead>\n",
       "  <tbody>\n",
       "    <tr>\n",
       "      <th>0</th>\n",
       "      <td>1379560</td>\n",
       "      <td>1</td>\n",
       "      <td>55</td>\n",
       "      <td>647</td>\n",
       "      <td>56</td>\n",
       "      <td>2.0</td>\n",
       "      <td>1885</td>\n",
       "      <td>136.83</td>\n",
       "      <td>152.29</td>\n",
       "      <td>0</td>\n",
       "      <td>...</td>\n",
       "      <td>0.0</td>\n",
       "      <td>0.0</td>\n",
       "      <td>0.0</td>\n",
       "      <td>0.0</td>\n",
       "      <td>0.0</td>\n",
       "      <td>0.0</td>\n",
       "      <td>0.0</td>\n",
       "      <td>0.0</td>\n",
       "      <td>0.0</td>\n",
       "      <td>1.0</td>\n",
       "    </tr>\n",
       "    <tr>\n",
       "      <th>1</th>\n",
       "      <td>1466964</td>\n",
       "      <td>1</td>\n",
       "      <td>55</td>\n",
       "      <td>647</td>\n",
       "      <td>56</td>\n",
       "      <td>2.0</td>\n",
       "      <td>1993</td>\n",
       "      <td>136.83</td>\n",
       "      <td>135.83</td>\n",
       "      <td>0</td>\n",
       "      <td>...</td>\n",
       "      <td>0.0</td>\n",
       "      <td>0.0</td>\n",
       "      <td>0.0</td>\n",
       "      <td>0.0</td>\n",
       "      <td>0.0</td>\n",
       "      <td>0.0</td>\n",
       "      <td>0.0</td>\n",
       "      <td>0.0</td>\n",
       "      <td>0.0</td>\n",
       "      <td>1.0</td>\n",
       "    </tr>\n",
       "    <tr>\n",
       "      <th>2</th>\n",
       "      <td>1346989</td>\n",
       "      <td>1</td>\n",
       "      <td>55</td>\n",
       "      <td>647</td>\n",
       "      <td>56</td>\n",
       "      <td>2.0</td>\n",
       "      <td>2539</td>\n",
       "      <td>134.86</td>\n",
       "      <td>135.86</td>\n",
       "      <td>0</td>\n",
       "      <td>...</td>\n",
       "      <td>0.0</td>\n",
       "      <td>0.0</td>\n",
       "      <td>0.0</td>\n",
       "      <td>0.0</td>\n",
       "      <td>0.0</td>\n",
       "      <td>0.0</td>\n",
       "      <td>0.0</td>\n",
       "      <td>0.0</td>\n",
       "      <td>0.0</td>\n",
       "      <td>1.0</td>\n",
       "    </tr>\n",
       "    <tr>\n",
       "      <th>3</th>\n",
       "      <td>1338232</td>\n",
       "      <td>1</td>\n",
       "      <td>55</td>\n",
       "      <td>647</td>\n",
       "      <td>56</td>\n",
       "      <td>2.0</td>\n",
       "      <td>2139</td>\n",
       "      <td>339.50</td>\n",
       "      <td>437.53</td>\n",
       "      <td>0</td>\n",
       "      <td>...</td>\n",
       "      <td>0.0</td>\n",
       "      <td>0.0</td>\n",
       "      <td>0.0</td>\n",
       "      <td>0.0</td>\n",
       "      <td>0.0</td>\n",
       "      <td>0.0</td>\n",
       "      <td>0.0</td>\n",
       "      <td>1.0</td>\n",
       "      <td>0.0</td>\n",
       "      <td>0.0</td>\n",
       "    </tr>\n",
       "    <tr>\n",
       "      <th>4</th>\n",
       "      <td>1448490</td>\n",
       "      <td>1</td>\n",
       "      <td>55</td>\n",
       "      <td>647</td>\n",
       "      <td>56</td>\n",
       "      <td>2.0</td>\n",
       "      <td>2631</td>\n",
       "      <td>243.50</td>\n",
       "      <td>242.50</td>\n",
       "      <td>0</td>\n",
       "      <td>...</td>\n",
       "      <td>0.0</td>\n",
       "      <td>0.0</td>\n",
       "      <td>0.0</td>\n",
       "      <td>0.0</td>\n",
       "      <td>0.0</td>\n",
       "      <td>0.0</td>\n",
       "      <td>0.0</td>\n",
       "      <td>1.0</td>\n",
       "      <td>0.0</td>\n",
       "      <td>0.0</td>\n",
       "    </tr>\n",
       "  </tbody>\n",
       "</table>\n",
       "<p>5 rows × 33 columns</p>\n",
       "</div>"
      ],
      "text/plain": [
       "        id  week  center_id  city_code  region_code  op_area  meal_id  \\\n",
       "0  1379560     1         55        647           56      2.0     1885   \n",
       "1  1466964     1         55        647           56      2.0     1993   \n",
       "2  1346989     1         55        647           56      2.0     2539   \n",
       "3  1338232     1         55        647           56      2.0     2139   \n",
       "4  1448490     1         55        647           56      2.0     2631   \n",
       "\n",
       "   checkout_price  base_price  emailer_for_promotion  ...  category_Rice Bowl  \\\n",
       "0          136.83      152.29                      0  ...                 0.0   \n",
       "1          136.83      135.83                      0  ...                 0.0   \n",
       "2          134.86      135.86                      0  ...                 0.0   \n",
       "3          339.50      437.53                      0  ...                 0.0   \n",
       "4          243.50      242.50                      0  ...                 0.0   \n",
       "\n",
       "   category_Salad  category_Sandwich  category_Seafood  category_Soup  \\\n",
       "0             0.0                0.0               0.0            0.0   \n",
       "1             0.0                0.0               0.0            0.0   \n",
       "2             0.0                0.0               0.0            0.0   \n",
       "3             0.0                0.0               0.0            0.0   \n",
       "4             0.0                0.0               0.0            0.0   \n",
       "\n",
       "   category_Starters  cuisine_Continental  cuisine_Indian  cuisine_Italian  \\\n",
       "0                0.0                  0.0             0.0              0.0   \n",
       "1                0.0                  0.0             0.0              0.0   \n",
       "2                0.0                  0.0             0.0              0.0   \n",
       "3                0.0                  0.0             1.0              0.0   \n",
       "4                0.0                  0.0             1.0              0.0   \n",
       "\n",
       "   cuisine_Thai  \n",
       "0           1.0  \n",
       "1           1.0  \n",
       "2           1.0  \n",
       "3           0.0  \n",
       "4           0.0  \n",
       "\n",
       "[5 rows x 33 columns]"
      ]
     },
     "execution_count": 3,
     "metadata": {},
     "output_type": "execute_result"
    }
   ],
   "source": [
    "from sklearn.preprocessing import OneHotEncoder\n",
    "\n",
    "ohe = OneHotEncoder(sparse=False)\n",
    "# center_type\n",
    "data_cat = ohe.fit_transform(df[['center_type']])\n",
    "df_center = pd.concat([df.drop(columns=['center_type']),pd.DataFrame(data_cat, columns=['center_type_' + str(col) for col in ohe.categories_[0]])], axis=1)\n",
    "\n",
    "# category\n",
    "data_cat = ohe.fit_transform(df[['category']])\n",
    "df_category = pd.concat([df_center.drop(columns=['category']),pd.DataFrame(data_cat, columns=['category_' + str(col) for col in ohe.categories_[0]])], axis=1)\n",
    "\n",
    "# cuisine\n",
    "data_cat = ohe.fit_transform(df[['cuisine']])\n",
    "train_df = pd.concat([df_category.drop(columns=['cuisine']),pd.DataFrame(data_cat, columns=['cuisine_' + str(col) for col in ohe.categories_[0]])], axis=1)\n",
    "\n",
    "train_df.head()"
   ]
  },
  {
   "cell_type": "code",
   "execution_count": 4,
   "id": "81790f17",
   "metadata": {},
   "outputs": [],
   "source": [
    "from sklearn.model_selection import train_test_split\n",
    "\n",
    "X = train_df.drop('num_orders', axis=1)\n",
    "y = train_df['num_orders']"
   ]
  },
  {
   "cell_type": "code",
   "execution_count": 5,
   "id": "7bff61fc",
   "metadata": {},
   "outputs": [],
   "source": [
    "# train, test를 8:2로 나누기\n",
    "train_x, test_x, train_y, test_y = train_test_split(X, y, test_size=0.2, random_state=1)"
   ]
  },
  {
   "cell_type": "code",
   "execution_count": 6,
   "id": "bffb65c7",
   "metadata": {
    "collapsed": true
   },
   "outputs": [
    {
     "name": "stdout",
     "output_type": "stream",
     "text": [
      "\n",
      "MinMaxScaler: \n",
      "                   0              1              2              3   \\\n",
      "count  365238.000000  365238.000000  365238.000000  365238.000000   \n",
      "mean        0.500463       0.512199       0.409727       0.566405   \n",
      "std         0.288605       0.288422       0.261217       0.257554   \n",
      "min         0.000000       0.000000       0.000000       0.000000   \n",
      "25%         0.250648       0.263889       0.187500       0.377432   \n",
      "50%         0.500666       0.520833       0.375000       0.544747   \n",
      "75%         0.750459       0.763889       0.568182       0.758755   \n",
      "max         1.000000       1.000000       1.000000       1.000000   \n",
      "\n",
      "                  4              5              6              7   \\\n",
      "count  365238.000000  365238.000000  365238.000000  365238.000000   \n",
      "mean        0.480382       0.521916       0.508245       0.381322   \n",
      "std         0.251985       0.179139       0.289063       0.177079   \n",
      "min         0.000000       0.000000       0.000000       0.000000   \n",
      "25%         0.157143       0.442623       0.261880       0.261763   \n",
      "50%         0.471429       0.508197       0.491552       0.339326   \n",
      "75%         0.771429       0.590164       0.779831       0.512290   \n",
      "max         1.000000       1.000000       1.000000       1.000000   \n",
      "\n",
      "                  8              9   ...             22             23  \\\n",
      "count  365238.000000  365238.000000  ...  365238.000000  365238.000000   \n",
      "mean        0.368321       0.081136  ...       0.073169       0.062756   \n",
      "std         0.198021       0.273044  ...       0.260414       0.242525   \n",
      "min         0.000000       0.000000  ...       0.000000       0.000000   \n",
      "25%         0.232020       0.000000  ...       0.000000       0.000000   \n",
      "50%         0.314556       0.000000  ...       0.000000       0.000000   \n",
      "75%         0.497534       0.000000  ...       0.000000       0.000000   \n",
      "max         1.000000       1.000000  ...       1.000000       1.000000   \n",
      "\n",
      "                  24             25             26             27  \\\n",
      "count  365238.000000  365238.000000  365238.000000  365238.000000   \n",
      "mean        0.073024       0.058723       0.027886       0.065741   \n",
      "std         0.260176       0.235107       0.164646       0.247829   \n",
      "min         0.000000       0.000000       0.000000       0.000000   \n",
      "25%         0.000000       0.000000       0.000000       0.000000   \n",
      "50%         0.000000       0.000000       0.000000       0.000000   \n",
      "75%         0.000000       0.000000       0.000000       0.000000   \n",
      "max         1.000000       1.000000       1.000000       1.000000   \n",
      "\n",
      "                  28             29             30             31  \n",
      "count  365238.000000  365238.000000  365238.000000  365238.000000  \n",
      "mean        0.224722       0.246401       0.269413       0.259464  \n",
      "std         0.417400       0.430915       0.443656       0.438341  \n",
      "min         0.000000       0.000000       0.000000       0.000000  \n",
      "25%         0.000000       0.000000       0.000000       0.000000  \n",
      "50%         0.000000       0.000000       0.000000       0.000000  \n",
      "75%         0.000000       0.000000       1.000000       1.000000  \n",
      "max         1.000000       1.000000       1.000000       1.000000  \n",
      "\n",
      "[8 rows x 32 columns]\n"
     ]
    }
   ],
   "source": [
    "from sklearn.preprocessing import MinMaxScaler\n",
    "\n",
    "scaler = MinMaxScaler()\n",
    "scaler.fit(train_x)\n",
    "X_train_transformed = pd.DataFrame(scaler.transform(train_x))\n",
    "print(\"\\nMinMaxScaler: \\n\", X_train_transformed.describe())"
   ]
  },
  {
   "cell_type": "markdown",
   "id": "90ac1020",
   "metadata": {},
   "source": [
    "# RandomForestRegressor "
   ]
  },
  {
   "cell_type": "code",
   "execution_count": 8,
   "id": "338ce1bd",
   "metadata": {},
   "outputs": [],
   "source": [
    "# 모델 선언\n",
    "from sklearn.ensemble import RandomForestRegressor\n",
    "from sklearn.metrics import mean_squared_error\n",
    "\n",
    "rfr = RandomForestRegressor()"
   ]
  },
  {
   "cell_type": "code",
   "execution_count": 9,
   "id": "b83a176f",
   "metadata": {},
   "outputs": [
    {
     "data": {
      "text/plain": [
       "RandomForestRegressor()"
      ]
     },
     "execution_count": 9,
     "metadata": {},
     "output_type": "execute_result"
    }
   ],
   "source": [
    "rfr.fit(train_x,train_y)"
   ]
  },
  {
   "cell_type": "code",
   "execution_count": 10,
   "id": "7dca6b56",
   "metadata": {},
   "outputs": [
    {
     "data": {
      "text/plain": [
       "array([ 29.44, 265.86,  69.25, ..., 253.09, 573.93,  41.1 ])"
      ]
     },
     "execution_count": 10,
     "metadata": {},
     "output_type": "execute_result"
    }
   ],
   "source": [
    "test_pred = rfr.predict(test_x)\n",
    "test_pred"
   ]
  },
  {
   "cell_type": "code",
   "execution_count": 11,
   "id": "754948a6",
   "metadata": {},
   "outputs": [
    {
     "data": {
      "text/plain": [
       "152.39471572001608"
      ]
     },
     "execution_count": 11,
     "metadata": {},
     "output_type": "execute_result"
    }
   ],
   "source": [
    "from sklearn.metrics import mean_squared_error\n",
    "mean_squared_error(test_y, test_pred, squared = True)**0.5"
   ]
  },
  {
   "cell_type": "code",
   "execution_count": 12,
   "id": "3b35e244",
   "metadata": {},
   "outputs": [
    {
     "name": "stdout",
     "output_type": "stream",
     "text": [
      "0.8514300365413455\n"
     ]
    }
   ],
   "source": [
    "from sklearn.metrics import r2_score\n",
    "print(r2_score(test_y, test_pred))"
   ]
  },
  {
   "cell_type": "markdown",
   "id": "2e2a06c0",
   "metadata": {},
   "source": [
    "# Grid Search"
   ]
  },
  {
   "cell_type": "code",
   "execution_count": 13,
   "id": "bef9b478",
   "metadata": {},
   "outputs": [],
   "source": [
    "from sklearn.model_selection import GridSearchCV\n",
    "\n",
    "params = { 'n_estimators' : [10, 100],\n",
    "           'min_samples_leaf' : [1, 2, 3],\n",
    "           'min_samples_split' : [1, 2, 3],\n",
    "          'n_jobs' : [-1, 0, 1],\n",
    "          'random_state' : [180, 190, 200]\n",
    "            }"
   ]
  },
  {
   "cell_type": "code",
   "execution_count": 14,
   "id": "9a18d6b3",
   "metadata": {},
   "outputs": [
    {
     "name": "stderr",
     "output_type": "stream",
     "text": [
      "C:\\Users\\SisLab\\anaconda3\\envs\\soyeon\\lib\\site-packages\\sklearn\\model_selection\\_validation.py:372: FitFailedWarning: \n",
      "450 fits failed out of a total of 810.\n",
      "The score on these train-test partitions for these parameters will be set to nan.\n",
      "If these failures are not expected, you can try to debug them by setting error_score='raise'.\n",
      "\n",
      "Below are more details about the failures:\n",
      "--------------------------------------------------------------------------------\n",
      "90 fits failed with the following error:\n",
      "joblib.externals.loky.process_executor._RemoteTraceback: \n",
      "\"\"\"\n",
      "Traceback (most recent call last):\n",
      "  File \"C:\\Users\\SisLab\\anaconda3\\envs\\soyeon\\lib\\site-packages\\joblib\\externals\\loky\\process_executor.py\", line 436, in _process_worker\n",
      "    r = call_item()\n",
      "  File \"C:\\Users\\SisLab\\anaconda3\\envs\\soyeon\\lib\\site-packages\\joblib\\externals\\loky\\process_executor.py\", line 288, in __call__\n",
      "    return self.fn(*self.args, **self.kwargs)\n",
      "  File \"C:\\Users\\SisLab\\anaconda3\\envs\\soyeon\\lib\\site-packages\\joblib\\_parallel_backends.py\", line 595, in __call__\n",
      "    return self.func(*args, **kwargs)\n",
      "  File \"C:\\Users\\SisLab\\anaconda3\\envs\\soyeon\\lib\\site-packages\\joblib\\parallel.py\", line 262, in __call__\n",
      "    return [func(*args, **kwargs)\n",
      "  File \"C:\\Users\\SisLab\\anaconda3\\envs\\soyeon\\lib\\site-packages\\joblib\\parallel.py\", line 262, in <listcomp>\n",
      "    return [func(*args, **kwargs)\n",
      "  File \"C:\\Users\\SisLab\\anaconda3\\envs\\soyeon\\lib\\site-packages\\sklearn\\utils\\fixes.py\", line 216, in __call__\n",
      "    return self.function(*args, **kwargs)\n",
      "  File \"C:\\Users\\SisLab\\anaconda3\\envs\\soyeon\\lib\\site-packages\\sklearn\\ensemble\\_forest.py\", line 185, in _parallel_build_trees\n",
      "    tree.fit(X, y, sample_weight=curr_sample_weight, check_input=False)\n",
      "  File \"C:\\Users\\SisLab\\anaconda3\\envs\\soyeon\\lib\\site-packages\\sklearn\\tree\\_classes.py\", line 1315, in fit\n",
      "    super().fit(\n",
      "  File \"C:\\Users\\SisLab\\anaconda3\\envs\\soyeon\\lib\\site-packages\\sklearn\\tree\\_classes.py\", line 250, in fit\n",
      "    raise ValueError(\n",
      "ValueError: min_samples_split must be an integer greater than 1 or a float in (0.0, 1.0]; got the integer 1\n",
      "\"\"\"\n",
      "\n",
      "The above exception was the direct cause of the following exception:\n",
      "\n",
      "Traceback (most recent call last):\n",
      "  File \"C:\\Users\\SisLab\\anaconda3\\envs\\soyeon\\lib\\site-packages\\sklearn\\model_selection\\_validation.py\", line 680, in _fit_and_score\n",
      "    estimator.fit(X_train, y_train, **fit_params)\n",
      "  File \"C:\\Users\\SisLab\\anaconda3\\envs\\soyeon\\lib\\site-packages\\sklearn\\ensemble\\_forest.py\", line 450, in fit\n",
      "    trees = Parallel(\n",
      "  File \"C:\\Users\\SisLab\\anaconda3\\envs\\soyeon\\lib\\site-packages\\joblib\\parallel.py\", line 1056, in __call__\n",
      "    self.retrieve()\n",
      "  File \"C:\\Users\\SisLab\\anaconda3\\envs\\soyeon\\lib\\site-packages\\joblib\\parallel.py\", line 935, in retrieve\n",
      "    self._output.extend(job.get(timeout=self.timeout))\n",
      "  File \"C:\\Users\\SisLab\\anaconda3\\envs\\soyeon\\lib\\site-packages\\joblib\\_parallel_backends.py\", line 542, in wrap_future_result\n",
      "    return future.result(timeout=timeout)\n",
      "  File \"C:\\Users\\SisLab\\anaconda3\\envs\\soyeon\\lib\\concurrent\\futures\\_base.py\", line 446, in result\n",
      "    return self.__get_result()\n",
      "  File \"C:\\Users\\SisLab\\anaconda3\\envs\\soyeon\\lib\\concurrent\\futures\\_base.py\", line 391, in __get_result\n",
      "    raise self._exception\n",
      "ValueError: min_samples_split must be an integer greater than 1 or a float in (0.0, 1.0]; got the integer 1\n",
      "\n",
      "--------------------------------------------------------------------------------\n",
      "270 fits failed with the following error:\n",
      "Traceback (most recent call last):\n",
      "  File \"C:\\Users\\SisLab\\anaconda3\\envs\\soyeon\\lib\\site-packages\\sklearn\\model_selection\\_validation.py\", line 680, in _fit_and_score\n",
      "    estimator.fit(X_train, y_train, **fit_params)\n",
      "  File \"C:\\Users\\SisLab\\anaconda3\\envs\\soyeon\\lib\\site-packages\\sklearn\\ensemble\\_forest.py\", line 450, in fit\n",
      "    trees = Parallel(\n",
      "  File \"C:\\Users\\SisLab\\anaconda3\\envs\\soyeon\\lib\\site-packages\\joblib\\parallel.py\", line 968, in __call__\n",
      "    n_jobs = self._initialize_backend()\n",
      "  File \"C:\\Users\\SisLab\\anaconda3\\envs\\soyeon\\lib\\site-packages\\joblib\\parallel.py\", line 735, in _initialize_backend\n",
      "    n_jobs = self._backend.configure(n_jobs=self.n_jobs, parallel=self,\n",
      "  File \"C:\\Users\\SisLab\\anaconda3\\envs\\soyeon\\lib\\site-packages\\joblib\\_parallel_backends.py\", line 489, in configure\n",
      "    n_jobs = self.effective_n_jobs(n_jobs)\n",
      "  File \"C:\\Users\\SisLab\\anaconda3\\envs\\soyeon\\lib\\site-packages\\joblib\\_parallel_backends.py\", line 504, in effective_n_jobs\n",
      "    raise ValueError('n_jobs == 0 in Parallel has no meaning')\n",
      "ValueError: n_jobs == 0 in Parallel has no meaning\n",
      "\n",
      "--------------------------------------------------------------------------------\n",
      "90 fits failed with the following error:\n",
      "Traceback (most recent call last):\n",
      "  File \"C:\\Users\\SisLab\\anaconda3\\envs\\soyeon\\lib\\site-packages\\sklearn\\model_selection\\_validation.py\", line 680, in _fit_and_score\n",
      "    estimator.fit(X_train, y_train, **fit_params)\n",
      "  File \"C:\\Users\\SisLab\\anaconda3\\envs\\soyeon\\lib\\site-packages\\sklearn\\ensemble\\_forest.py\", line 450, in fit\n",
      "    trees = Parallel(\n",
      "  File \"C:\\Users\\SisLab\\anaconda3\\envs\\soyeon\\lib\\site-packages\\joblib\\parallel.py\", line 1043, in __call__\n",
      "    if self.dispatch_one_batch(iterator):\n",
      "  File \"C:\\Users\\SisLab\\anaconda3\\envs\\soyeon\\lib\\site-packages\\joblib\\parallel.py\", line 861, in dispatch_one_batch\n",
      "    self._dispatch(tasks)\n",
      "  File \"C:\\Users\\SisLab\\anaconda3\\envs\\soyeon\\lib\\site-packages\\joblib\\parallel.py\", line 779, in _dispatch\n",
      "    job = self._backend.apply_async(batch, callback=cb)\n",
      "  File \"C:\\Users\\SisLab\\anaconda3\\envs\\soyeon\\lib\\site-packages\\joblib\\_parallel_backends.py\", line 208, in apply_async\n",
      "    result = ImmediateResult(func)\n",
      "  File \"C:\\Users\\SisLab\\anaconda3\\envs\\soyeon\\lib\\site-packages\\joblib\\_parallel_backends.py\", line 572, in __init__\n",
      "    self.results = batch()\n",
      "  File \"C:\\Users\\SisLab\\anaconda3\\envs\\soyeon\\lib\\site-packages\\joblib\\parallel.py\", line 262, in __call__\n",
      "    return [func(*args, **kwargs)\n",
      "  File \"C:\\Users\\SisLab\\anaconda3\\envs\\soyeon\\lib\\site-packages\\joblib\\parallel.py\", line 262, in <listcomp>\n",
      "    return [func(*args, **kwargs)\n",
      "  File \"C:\\Users\\SisLab\\anaconda3\\envs\\soyeon\\lib\\site-packages\\sklearn\\utils\\fixes.py\", line 216, in __call__\n",
      "    return self.function(*args, **kwargs)\n",
      "  File \"C:\\Users\\SisLab\\anaconda3\\envs\\soyeon\\lib\\site-packages\\sklearn\\ensemble\\_forest.py\", line 185, in _parallel_build_trees\n",
      "    tree.fit(X, y, sample_weight=curr_sample_weight, check_input=False)\n",
      "  File \"C:\\Users\\SisLab\\anaconda3\\envs\\soyeon\\lib\\site-packages\\sklearn\\tree\\_classes.py\", line 1315, in fit\n",
      "    super().fit(\n",
      "  File \"C:\\Users\\SisLab\\anaconda3\\envs\\soyeon\\lib\\site-packages\\sklearn\\tree\\_classes.py\", line 250, in fit\n",
      "    raise ValueError(\n",
      "ValueError: min_samples_split must be an integer greater than 1 or a float in (0.0, 1.0]; got the integer 1\n",
      "\n",
      "  warnings.warn(some_fits_failed_message, FitFailedWarning)\n",
      "C:\\Users\\SisLab\\anaconda3\\envs\\soyeon\\lib\\site-packages\\sklearn\\model_selection\\_search.py:969: UserWarning: One or more of the test scores are non-finite: [         nan          nan          nan          nan          nan\n",
      "          nan          nan          nan          nan          nan\n",
      "          nan          nan          nan          nan          nan\n",
      "          nan          nan          nan -74.31891514 -74.14871726\n",
      " -74.29790865          nan          nan          nan -74.31891514\n",
      " -74.14871726 -74.29790865 -70.70764425 -70.7090625  -70.680763\n",
      "          nan          nan          nan -70.70764425 -70.7090625\n",
      " -70.680763   -74.1381469  -73.94271588 -74.125646            nan\n",
      "          nan          nan -74.1381469  -73.94271588 -74.125646\n",
      " -70.68477838 -70.67152718 -70.64447189          nan          nan\n",
      "          nan -70.68477838 -70.67152718 -70.64447189          nan\n",
      "          nan          nan          nan          nan          nan\n",
      "          nan          nan          nan          nan          nan\n",
      "          nan          nan          nan          nan          nan\n",
      "          nan          nan -73.33976788 -73.14286864 -73.23821073\n",
      "          nan          nan          nan -73.33976788 -73.14286864\n",
      " -73.23821073 -70.32390945 -70.32392669 -70.31660571          nan\n",
      "          nan          nan -70.32390945 -70.32392669 -70.31660571\n",
      " -73.33976788 -73.14286864 -73.23821073          nan          nan\n",
      "          nan -73.33976788 -73.14286864 -73.23821073 -70.32390945\n",
      " -70.32392669 -70.31660571          nan          nan          nan\n",
      " -70.32390945 -70.32392669 -70.31660571          nan          nan\n",
      "          nan          nan          nan          nan          nan\n",
      "          nan          nan          nan          nan          nan\n",
      "          nan          nan          nan          nan          nan\n",
      "          nan -72.88349979 -72.79338264 -72.85196351          nan\n",
      "          nan          nan -72.88349979 -72.79338264 -72.85196351\n",
      " -70.39220428 -70.38224522 -70.3599524           nan          nan\n",
      "          nan -70.39220428 -70.38224522 -70.3599524  -72.88349979\n",
      " -72.79338264 -72.85196351          nan          nan          nan\n",
      " -72.88349979 -72.79338264 -72.85196351 -70.39220428 -70.38224522\n",
      " -70.3599524           nan          nan          nan -70.39220428\n",
      " -70.38224522 -70.3599524 ]\n",
      "  warnings.warn(\n"
     ]
    },
    {
     "name": "stdout",
     "output_type": "stream",
     "text": [
      "Best Parameters :  {'min_samples_leaf': 2, 'min_samples_split': 2, 'n_estimators': 100, 'n_jobs': -1, 'random_state': 200}\n",
      "Best Score :  -70.316605712791\n"
     ]
    }
   ],
   "source": [
    "gs_s = GridSearchCV(rfr, param_grid = params,  scoring = 'neg_mean_absolute_error')\n",
    "gs_s.fit(train_x, train_y)\n",
    "print(\"Best Parameters : \", gs_s.best_params_)\n",
    "print(\"Best Score : \", gs_s.best_score_)"
   ]
  },
  {
   "cell_type": "code",
   "execution_count": 15,
   "id": "99ff23d7",
   "metadata": {},
   "outputs": [
    {
     "data": {
      "text/plain": [
       "array([ 29.72913095, 240.76947619,  78.27610714, ..., 270.43159524,\n",
       "       558.57579762,  40.79957143])"
      ]
     },
     "execution_count": 15,
     "metadata": {},
     "output_type": "execute_result"
    }
   ],
   "source": [
    "test_gfs = gs_s.predict(test_x)\n",
    "test_gfs"
   ]
  },
  {
   "cell_type": "code",
   "execution_count": 16,
   "id": "e1d2e84f",
   "metadata": {},
   "outputs": [
    {
     "data": {
      "text/plain": [
       "152.23660321980375"
      ]
     },
     "execution_count": 16,
     "metadata": {},
     "output_type": "execute_result"
    }
   ],
   "source": [
    "mean_squared_error(test_y, test_gfs, squared = True)**0.5"
   ]
  },
  {
   "cell_type": "code",
   "execution_count": 17,
   "id": "13ff882b",
   "metadata": {},
   "outputs": [
    {
     "name": "stdout",
     "output_type": "stream",
     "text": [
      "0.8517381651034416\n"
     ]
    }
   ],
   "source": [
    "print(r2_score(test_y, test_gfs))"
   ]
  },
  {
   "cell_type": "markdown",
   "id": "cb937eef",
   "metadata": {},
   "source": [
    "# Random Search"
   ]
  },
  {
   "cell_type": "code",
   "execution_count": 18,
   "id": "06b2b646",
   "metadata": {},
   "outputs": [],
   "source": [
    "from sklearn.model_selection import RandomizedSearchCV\n",
    "rfg = RandomForestRegressor()\n",
    "\n",
    "# Random Search 설정.\n",
    "rs_model = RandomizedSearchCV(rfg, params)"
   ]
  },
  {
   "cell_type": "code",
   "execution_count": 19,
   "id": "f70676e5",
   "metadata": {},
   "outputs": [
    {
     "name": "stderr",
     "output_type": "stream",
     "text": [
      "C:\\Users\\SisLab\\anaconda3\\envs\\soyeon\\lib\\site-packages\\sklearn\\model_selection\\_validation.py:372: FitFailedWarning: \n",
      "25 fits failed out of a total of 50.\n",
      "The score on these train-test partitions for these parameters will be set to nan.\n",
      "If these failures are not expected, you can try to debug them by setting error_score='raise'.\n",
      "\n",
      "Below are more details about the failures:\n",
      "--------------------------------------------------------------------------------\n",
      "10 fits failed with the following error:\n",
      "Traceback (most recent call last):\n",
      "  File \"C:\\Users\\SisLab\\anaconda3\\envs\\soyeon\\lib\\site-packages\\sklearn\\model_selection\\_validation.py\", line 680, in _fit_and_score\n",
      "    estimator.fit(X_train, y_train, **fit_params)\n",
      "  File \"C:\\Users\\SisLab\\anaconda3\\envs\\soyeon\\lib\\site-packages\\sklearn\\ensemble\\_forest.py\", line 450, in fit\n",
      "    trees = Parallel(\n",
      "  File \"C:\\Users\\SisLab\\anaconda3\\envs\\soyeon\\lib\\site-packages\\joblib\\parallel.py\", line 968, in __call__\n",
      "    n_jobs = self._initialize_backend()\n",
      "  File \"C:\\Users\\SisLab\\anaconda3\\envs\\soyeon\\lib\\site-packages\\joblib\\parallel.py\", line 735, in _initialize_backend\n",
      "    n_jobs = self._backend.configure(n_jobs=self.n_jobs, parallel=self,\n",
      "  File \"C:\\Users\\SisLab\\anaconda3\\envs\\soyeon\\lib\\site-packages\\joblib\\_parallel_backends.py\", line 489, in configure\n",
      "    n_jobs = self.effective_n_jobs(n_jobs)\n",
      "  File \"C:\\Users\\SisLab\\anaconda3\\envs\\soyeon\\lib\\site-packages\\joblib\\_parallel_backends.py\", line 504, in effective_n_jobs\n",
      "    raise ValueError('n_jobs == 0 in Parallel has no meaning')\n",
      "ValueError: n_jobs == 0 in Parallel has no meaning\n",
      "\n",
      "--------------------------------------------------------------------------------\n",
      "10 fits failed with the following error:\n",
      "Traceback (most recent call last):\n",
      "  File \"C:\\Users\\SisLab\\anaconda3\\envs\\soyeon\\lib\\site-packages\\sklearn\\model_selection\\_validation.py\", line 680, in _fit_and_score\n",
      "    estimator.fit(X_train, y_train, **fit_params)\n",
      "  File \"C:\\Users\\SisLab\\anaconda3\\envs\\soyeon\\lib\\site-packages\\sklearn\\ensemble\\_forest.py\", line 450, in fit\n",
      "    trees = Parallel(\n",
      "  File \"C:\\Users\\SisLab\\anaconda3\\envs\\soyeon\\lib\\site-packages\\joblib\\parallel.py\", line 1043, in __call__\n",
      "    if self.dispatch_one_batch(iterator):\n",
      "  File \"C:\\Users\\SisLab\\anaconda3\\envs\\soyeon\\lib\\site-packages\\joblib\\parallel.py\", line 861, in dispatch_one_batch\n",
      "    self._dispatch(tasks)\n",
      "  File \"C:\\Users\\SisLab\\anaconda3\\envs\\soyeon\\lib\\site-packages\\joblib\\parallel.py\", line 779, in _dispatch\n",
      "    job = self._backend.apply_async(batch, callback=cb)\n",
      "  File \"C:\\Users\\SisLab\\anaconda3\\envs\\soyeon\\lib\\site-packages\\joblib\\_parallel_backends.py\", line 208, in apply_async\n",
      "    result = ImmediateResult(func)\n",
      "  File \"C:\\Users\\SisLab\\anaconda3\\envs\\soyeon\\lib\\site-packages\\joblib\\_parallel_backends.py\", line 572, in __init__\n",
      "    self.results = batch()\n",
      "  File \"C:\\Users\\SisLab\\anaconda3\\envs\\soyeon\\lib\\site-packages\\joblib\\parallel.py\", line 262, in __call__\n",
      "    return [func(*args, **kwargs)\n",
      "  File \"C:\\Users\\SisLab\\anaconda3\\envs\\soyeon\\lib\\site-packages\\joblib\\parallel.py\", line 262, in <listcomp>\n",
      "    return [func(*args, **kwargs)\n",
      "  File \"C:\\Users\\SisLab\\anaconda3\\envs\\soyeon\\lib\\site-packages\\sklearn\\utils\\fixes.py\", line 216, in __call__\n",
      "    return self.function(*args, **kwargs)\n",
      "  File \"C:\\Users\\SisLab\\anaconda3\\envs\\soyeon\\lib\\site-packages\\sklearn\\ensemble\\_forest.py\", line 185, in _parallel_build_trees\n",
      "    tree.fit(X, y, sample_weight=curr_sample_weight, check_input=False)\n",
      "  File \"C:\\Users\\SisLab\\anaconda3\\envs\\soyeon\\lib\\site-packages\\sklearn\\tree\\_classes.py\", line 1315, in fit\n",
      "    super().fit(\n",
      "  File \"C:\\Users\\SisLab\\anaconda3\\envs\\soyeon\\lib\\site-packages\\sklearn\\tree\\_classes.py\", line 250, in fit\n",
      "    raise ValueError(\n",
      "ValueError: min_samples_split must be an integer greater than 1 or a float in (0.0, 1.0]; got the integer 1\n",
      "\n",
      "--------------------------------------------------------------------------------\n",
      "5 fits failed with the following error:\n",
      "joblib.externals.loky.process_executor._RemoteTraceback: \n",
      "\"\"\"\n",
      "Traceback (most recent call last):\n",
      "  File \"C:\\Users\\SisLab\\anaconda3\\envs\\soyeon\\lib\\site-packages\\joblib\\externals\\loky\\process_executor.py\", line 436, in _process_worker\n",
      "    r = call_item()\n",
      "  File \"C:\\Users\\SisLab\\anaconda3\\envs\\soyeon\\lib\\site-packages\\joblib\\externals\\loky\\process_executor.py\", line 288, in __call__\n",
      "    return self.fn(*self.args, **self.kwargs)\n",
      "  File \"C:\\Users\\SisLab\\anaconda3\\envs\\soyeon\\lib\\site-packages\\joblib\\_parallel_backends.py\", line 595, in __call__\n",
      "    return self.func(*args, **kwargs)\n",
      "  File \"C:\\Users\\SisLab\\anaconda3\\envs\\soyeon\\lib\\site-packages\\joblib\\parallel.py\", line 262, in __call__\n",
      "    return [func(*args, **kwargs)\n",
      "  File \"C:\\Users\\SisLab\\anaconda3\\envs\\soyeon\\lib\\site-packages\\joblib\\parallel.py\", line 262, in <listcomp>\n",
      "    return [func(*args, **kwargs)\n",
      "  File \"C:\\Users\\SisLab\\anaconda3\\envs\\soyeon\\lib\\site-packages\\sklearn\\utils\\fixes.py\", line 216, in __call__\n",
      "    return self.function(*args, **kwargs)\n",
      "  File \"C:\\Users\\SisLab\\anaconda3\\envs\\soyeon\\lib\\site-packages\\sklearn\\ensemble\\_forest.py\", line 185, in _parallel_build_trees\n",
      "    tree.fit(X, y, sample_weight=curr_sample_weight, check_input=False)\n",
      "  File \"C:\\Users\\SisLab\\anaconda3\\envs\\soyeon\\lib\\site-packages\\sklearn\\tree\\_classes.py\", line 1315, in fit\n",
      "    super().fit(\n",
      "  File \"C:\\Users\\SisLab\\anaconda3\\envs\\soyeon\\lib\\site-packages\\sklearn\\tree\\_classes.py\", line 250, in fit\n",
      "    raise ValueError(\n",
      "ValueError: min_samples_split must be an integer greater than 1 or a float in (0.0, 1.0]; got the integer 1\n",
      "\"\"\"\n",
      "\n",
      "The above exception was the direct cause of the following exception:\n",
      "\n",
      "Traceback (most recent call last):\n",
      "  File \"C:\\Users\\SisLab\\anaconda3\\envs\\soyeon\\lib\\site-packages\\sklearn\\model_selection\\_validation.py\", line 680, in _fit_and_score\n",
      "    estimator.fit(X_train, y_train, **fit_params)\n",
      "  File \"C:\\Users\\SisLab\\anaconda3\\envs\\soyeon\\lib\\site-packages\\sklearn\\ensemble\\_forest.py\", line 450, in fit\n",
      "    trees = Parallel(\n",
      "  File \"C:\\Users\\SisLab\\anaconda3\\envs\\soyeon\\lib\\site-packages\\joblib\\parallel.py\", line 1056, in __call__\n",
      "    self.retrieve()\n",
      "  File \"C:\\Users\\SisLab\\anaconda3\\envs\\soyeon\\lib\\site-packages\\joblib\\parallel.py\", line 935, in retrieve\n",
      "    self._output.extend(job.get(timeout=self.timeout))\n",
      "  File \"C:\\Users\\SisLab\\anaconda3\\envs\\soyeon\\lib\\site-packages\\joblib\\_parallel_backends.py\", line 542, in wrap_future_result\n",
      "    return future.result(timeout=timeout)\n",
      "  File \"C:\\Users\\SisLab\\anaconda3\\envs\\soyeon\\lib\\concurrent\\futures\\_base.py\", line 446, in result\n",
      "    return self.__get_result()\n",
      "  File \"C:\\Users\\SisLab\\anaconda3\\envs\\soyeon\\lib\\concurrent\\futures\\_base.py\", line 391, in __get_result\n",
      "    raise self._exception\n",
      "ValueError: min_samples_split must be an integer greater than 1 or a float in (0.0, 1.0]; got the integer 1\n",
      "\n",
      "  warnings.warn(some_fits_failed_message, FitFailedWarning)\n",
      "C:\\Users\\SisLab\\anaconda3\\envs\\soyeon\\lib\\site-packages\\sklearn\\model_selection\\_search.py:969: UserWarning: One or more of the test scores are non-finite: [       nan 0.84805034 0.83695385        nan        nan 0.84540156\n",
      " 0.83376917        nan        nan 0.82856726]\n",
      "  warnings.warn(\n"
     ]
    },
    {
     "data": {
      "text/plain": [
       "RandomizedSearchCV(estimator=RandomForestRegressor(),\n",
       "                   param_distributions={'min_samples_leaf': [1, 2, 3],\n",
       "                                        'min_samples_split': [1, 2, 3],\n",
       "                                        'n_estimators': [10, 100],\n",
       "                                        'n_jobs': [-1, 0, 1],\n",
       "                                        'random_state': [180, 190, 200]})"
      ]
     },
     "execution_count": 19,
     "metadata": {},
     "output_type": "execute_result"
    }
   ],
   "source": [
    "rs_model.fit(train_x, train_y)"
   ]
  },
  {
   "cell_type": "code",
   "execution_count": 20,
   "id": "4aa5b921",
   "metadata": {},
   "outputs": [
    {
     "data": {
      "text/plain": [
       "array([ 29.44, 258.29,  75.83, ..., 259.5 , 523.32,  38.62])"
      ]
     },
     "execution_count": 20,
     "metadata": {},
     "output_type": "execute_result"
    }
   ],
   "source": [
    "test_rs = rs_model.predict(test_x)\n",
    "test_rs"
   ]
  },
  {
   "cell_type": "code",
   "execution_count": 21,
   "id": "81ab8e6f",
   "metadata": {},
   "outputs": [
    {
     "data": {
      "text/plain": [
       "152.76754710754273"
      ]
     },
     "execution_count": 21,
     "metadata": {},
     "output_type": "execute_result"
    }
   ],
   "source": [
    "mean_squared_error(test_y, test_rs, squared = True)**0.5"
   ]
  },
  {
   "cell_type": "code",
   "execution_count": 22,
   "id": "a791ac91",
   "metadata": {},
   "outputs": [
    {
     "name": "stdout",
     "output_type": "stream",
     "text": [
      "0.8507021989302833\n"
     ]
    }
   ],
   "source": [
    "print(r2_score(test_y, test_rs))"
   ]
  },
  {
   "cell_type": "code",
   "execution_count": null,
   "id": "9c4eacc3",
   "metadata": {},
   "outputs": [],
   "source": []
  }
 ],
 "metadata": {
  "kernelspec": {
   "display_name": "soyeon",
   "language": "python",
   "name": "soyeon"
  },
  "language_info": {
   "codemirror_mode": {
    "name": "ipython",
    "version": 3
   },
   "file_extension": ".py",
   "mimetype": "text/x-python",
   "name": "python",
   "nbconvert_exporter": "python",
   "pygments_lexer": "ipython3",
   "version": "3.9.12"
  }
 },
 "nbformat": 4,
 "nbformat_minor": 5
}
