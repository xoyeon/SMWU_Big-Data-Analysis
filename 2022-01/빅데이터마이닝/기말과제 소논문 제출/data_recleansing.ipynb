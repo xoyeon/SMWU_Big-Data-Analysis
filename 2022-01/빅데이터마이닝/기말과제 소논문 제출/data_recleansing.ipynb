{
 "cells": [
  {
   "cell_type": "code",
   "execution_count": 1,
   "id": "51b7c378",
   "metadata": {},
   "outputs": [],
   "source": [
    "import pandas as pd\n",
    "import numpy as np"
   ]
  },
  {
   "cell_type": "code",
   "execution_count": 2,
   "id": "bc559c7e",
   "metadata": {},
   "outputs": [
    {
     "data": {
      "text/html": [
       "<div>\n",
       "<style scoped>\n",
       "    .dataframe tbody tr th:only-of-type {\n",
       "        vertical-align: middle;\n",
       "    }\n",
       "\n",
       "    .dataframe tbody tr th {\n",
       "        vertical-align: top;\n",
       "    }\n",
       "\n",
       "    .dataframe thead th {\n",
       "        text-align: right;\n",
       "    }\n",
       "</style>\n",
       "<table border=\"1\" class=\"dataframe\">\n",
       "  <thead>\n",
       "    <tr style=\"text-align: right;\">\n",
       "      <th></th>\n",
       "      <th>id</th>\n",
       "      <th>week</th>\n",
       "      <th>center_id</th>\n",
       "      <th>meal_id</th>\n",
       "      <th>checkout_price</th>\n",
       "      <th>base_price</th>\n",
       "      <th>emailer_for_promotion</th>\n",
       "      <th>homepage_featured</th>\n",
       "      <th>num_orders</th>\n",
       "    </tr>\n",
       "  </thead>\n",
       "  <tbody>\n",
       "    <tr>\n",
       "      <th>0</th>\n",
       "      <td>1379560</td>\n",
       "      <td>1</td>\n",
       "      <td>55</td>\n",
       "      <td>1885</td>\n",
       "      <td>136.83</td>\n",
       "      <td>152.29</td>\n",
       "      <td>0</td>\n",
       "      <td>0</td>\n",
       "      <td>177</td>\n",
       "    </tr>\n",
       "    <tr>\n",
       "      <th>1</th>\n",
       "      <td>1466964</td>\n",
       "      <td>1</td>\n",
       "      <td>55</td>\n",
       "      <td>1993</td>\n",
       "      <td>136.83</td>\n",
       "      <td>135.83</td>\n",
       "      <td>0</td>\n",
       "      <td>0</td>\n",
       "      <td>270</td>\n",
       "    </tr>\n",
       "    <tr>\n",
       "      <th>2</th>\n",
       "      <td>1346989</td>\n",
       "      <td>1</td>\n",
       "      <td>55</td>\n",
       "      <td>2539</td>\n",
       "      <td>134.86</td>\n",
       "      <td>135.86</td>\n",
       "      <td>0</td>\n",
       "      <td>0</td>\n",
       "      <td>189</td>\n",
       "    </tr>\n",
       "    <tr>\n",
       "      <th>3</th>\n",
       "      <td>1338232</td>\n",
       "      <td>1</td>\n",
       "      <td>55</td>\n",
       "      <td>2139</td>\n",
       "      <td>339.50</td>\n",
       "      <td>437.53</td>\n",
       "      <td>0</td>\n",
       "      <td>0</td>\n",
       "      <td>54</td>\n",
       "    </tr>\n",
       "    <tr>\n",
       "      <th>4</th>\n",
       "      <td>1448490</td>\n",
       "      <td>1</td>\n",
       "      <td>55</td>\n",
       "      <td>2631</td>\n",
       "      <td>243.50</td>\n",
       "      <td>242.50</td>\n",
       "      <td>0</td>\n",
       "      <td>0</td>\n",
       "      <td>40</td>\n",
       "    </tr>\n",
       "  </tbody>\n",
       "</table>\n",
       "</div>"
      ],
      "text/plain": [
       "        id  week  center_id  meal_id  checkout_price  base_price  \\\n",
       "0  1379560     1         55     1885          136.83      152.29   \n",
       "1  1466964     1         55     1993          136.83      135.83   \n",
       "2  1346989     1         55     2539          134.86      135.86   \n",
       "3  1338232     1         55     2139          339.50      437.53   \n",
       "4  1448490     1         55     2631          243.50      242.50   \n",
       "\n",
       "   emailer_for_promotion  homepage_featured  num_orders  \n",
       "0                      0                  0         177  \n",
       "1                      0                  0         270  \n",
       "2                      0                  0         189  \n",
       "3                      0                  0          54  \n",
       "4                      0                  0          40  "
      ]
     },
     "execution_count": 2,
     "metadata": {},
     "output_type": "execute_result"
    }
   ],
   "source": [
    "df = pd.read_csv(\"C:\\\\Users\\\\SisLab\\\\!SOYEON\\\\train.csv\")\n",
    "df.head()"
   ]
  },
  {
   "cell_type": "code",
   "execution_count": 3,
   "id": "f9c0a095",
   "metadata": {},
   "outputs": [
    {
     "data": {
      "text/html": [
       "<div>\n",
       "<style scoped>\n",
       "    .dataframe tbody tr th:only-of-type {\n",
       "        vertical-align: middle;\n",
       "    }\n",
       "\n",
       "    .dataframe tbody tr th {\n",
       "        vertical-align: top;\n",
       "    }\n",
       "\n",
       "    .dataframe thead th {\n",
       "        text-align: right;\n",
       "    }\n",
       "</style>\n",
       "<table border=\"1\" class=\"dataframe\">\n",
       "  <thead>\n",
       "    <tr style=\"text-align: right;\">\n",
       "      <th></th>\n",
       "      <th>id</th>\n",
       "      <th>week</th>\n",
       "      <th>checkout_price</th>\n",
       "      <th>base_price</th>\n",
       "      <th>emailer_for_promotion</th>\n",
       "      <th>homepage_featured</th>\n",
       "      <th>num_orders</th>\n",
       "      <th>center_id10</th>\n",
       "      <th>center_id11</th>\n",
       "      <th>center_id13</th>\n",
       "      <th>...</th>\n",
       "      <th>meal_id2581</th>\n",
       "      <th>meal_id2631</th>\n",
       "      <th>meal_id2640</th>\n",
       "      <th>meal_id2664</th>\n",
       "      <th>meal_id2704</th>\n",
       "      <th>meal_id2707</th>\n",
       "      <th>meal_id2760</th>\n",
       "      <th>meal_id2826</th>\n",
       "      <th>meal_id2867</th>\n",
       "      <th>meal_id2956</th>\n",
       "    </tr>\n",
       "  </thead>\n",
       "  <tbody>\n",
       "    <tr>\n",
       "      <th>0</th>\n",
       "      <td>1379560</td>\n",
       "      <td>1</td>\n",
       "      <td>136.83</td>\n",
       "      <td>152.29</td>\n",
       "      <td>0</td>\n",
       "      <td>0</td>\n",
       "      <td>177</td>\n",
       "      <td>0.0</td>\n",
       "      <td>0.0</td>\n",
       "      <td>0.0</td>\n",
       "      <td>...</td>\n",
       "      <td>0.0</td>\n",
       "      <td>0.0</td>\n",
       "      <td>0.0</td>\n",
       "      <td>0.0</td>\n",
       "      <td>0.0</td>\n",
       "      <td>0.0</td>\n",
       "      <td>0.0</td>\n",
       "      <td>0.0</td>\n",
       "      <td>0.0</td>\n",
       "      <td>0.0</td>\n",
       "    </tr>\n",
       "    <tr>\n",
       "      <th>1</th>\n",
       "      <td>1466964</td>\n",
       "      <td>1</td>\n",
       "      <td>136.83</td>\n",
       "      <td>135.83</td>\n",
       "      <td>0</td>\n",
       "      <td>0</td>\n",
       "      <td>270</td>\n",
       "      <td>0.0</td>\n",
       "      <td>0.0</td>\n",
       "      <td>0.0</td>\n",
       "      <td>...</td>\n",
       "      <td>0.0</td>\n",
       "      <td>0.0</td>\n",
       "      <td>0.0</td>\n",
       "      <td>0.0</td>\n",
       "      <td>0.0</td>\n",
       "      <td>0.0</td>\n",
       "      <td>0.0</td>\n",
       "      <td>0.0</td>\n",
       "      <td>0.0</td>\n",
       "      <td>0.0</td>\n",
       "    </tr>\n",
       "    <tr>\n",
       "      <th>2</th>\n",
       "      <td>1346989</td>\n",
       "      <td>1</td>\n",
       "      <td>134.86</td>\n",
       "      <td>135.86</td>\n",
       "      <td>0</td>\n",
       "      <td>0</td>\n",
       "      <td>189</td>\n",
       "      <td>0.0</td>\n",
       "      <td>0.0</td>\n",
       "      <td>0.0</td>\n",
       "      <td>...</td>\n",
       "      <td>0.0</td>\n",
       "      <td>0.0</td>\n",
       "      <td>0.0</td>\n",
       "      <td>0.0</td>\n",
       "      <td>0.0</td>\n",
       "      <td>0.0</td>\n",
       "      <td>0.0</td>\n",
       "      <td>0.0</td>\n",
       "      <td>0.0</td>\n",
       "      <td>0.0</td>\n",
       "    </tr>\n",
       "    <tr>\n",
       "      <th>3</th>\n",
       "      <td>1338232</td>\n",
       "      <td>1</td>\n",
       "      <td>339.50</td>\n",
       "      <td>437.53</td>\n",
       "      <td>0</td>\n",
       "      <td>0</td>\n",
       "      <td>54</td>\n",
       "      <td>0.0</td>\n",
       "      <td>0.0</td>\n",
       "      <td>0.0</td>\n",
       "      <td>...</td>\n",
       "      <td>0.0</td>\n",
       "      <td>0.0</td>\n",
       "      <td>0.0</td>\n",
       "      <td>0.0</td>\n",
       "      <td>0.0</td>\n",
       "      <td>0.0</td>\n",
       "      <td>0.0</td>\n",
       "      <td>0.0</td>\n",
       "      <td>0.0</td>\n",
       "      <td>0.0</td>\n",
       "    </tr>\n",
       "    <tr>\n",
       "      <th>4</th>\n",
       "      <td>1448490</td>\n",
       "      <td>1</td>\n",
       "      <td>243.50</td>\n",
       "      <td>242.50</td>\n",
       "      <td>0</td>\n",
       "      <td>0</td>\n",
       "      <td>40</td>\n",
       "      <td>0.0</td>\n",
       "      <td>0.0</td>\n",
       "      <td>0.0</td>\n",
       "      <td>...</td>\n",
       "      <td>0.0</td>\n",
       "      <td>1.0</td>\n",
       "      <td>0.0</td>\n",
       "      <td>0.0</td>\n",
       "      <td>0.0</td>\n",
       "      <td>0.0</td>\n",
       "      <td>0.0</td>\n",
       "      <td>0.0</td>\n",
       "      <td>0.0</td>\n",
       "      <td>0.0</td>\n",
       "    </tr>\n",
       "  </tbody>\n",
       "</table>\n",
       "<p>5 rows × 135 columns</p>\n",
       "</div>"
      ],
      "text/plain": [
       "        id  week  checkout_price  base_price  emailer_for_promotion  \\\n",
       "0  1379560     1          136.83      152.29                      0   \n",
       "1  1466964     1          136.83      135.83                      0   \n",
       "2  1346989     1          134.86      135.86                      0   \n",
       "3  1338232     1          339.50      437.53                      0   \n",
       "4  1448490     1          243.50      242.50                      0   \n",
       "\n",
       "   homepage_featured  num_orders  center_id10  center_id11  center_id13  ...  \\\n",
       "0                  0         177          0.0          0.0          0.0  ...   \n",
       "1                  0         270          0.0          0.0          0.0  ...   \n",
       "2                  0         189          0.0          0.0          0.0  ...   \n",
       "3                  0          54          0.0          0.0          0.0  ...   \n",
       "4                  0          40          0.0          0.0          0.0  ...   \n",
       "\n",
       "   meal_id2581  meal_id2631  meal_id2640  meal_id2664  meal_id2704  \\\n",
       "0          0.0          0.0          0.0          0.0          0.0   \n",
       "1          0.0          0.0          0.0          0.0          0.0   \n",
       "2          0.0          0.0          0.0          0.0          0.0   \n",
       "3          0.0          0.0          0.0          0.0          0.0   \n",
       "4          0.0          1.0          0.0          0.0          0.0   \n",
       "\n",
       "   meal_id2707  meal_id2760  meal_id2826  meal_id2867  meal_id2956  \n",
       "0          0.0          0.0          0.0          0.0          0.0  \n",
       "1          0.0          0.0          0.0          0.0          0.0  \n",
       "2          0.0          0.0          0.0          0.0          0.0  \n",
       "3          0.0          0.0          0.0          0.0          0.0  \n",
       "4          0.0          0.0          0.0          0.0          0.0  \n",
       "\n",
       "[5 rows x 135 columns]"
      ]
     },
     "execution_count": 3,
     "metadata": {},
     "output_type": "execute_result"
    }
   ],
   "source": [
    "from sklearn.preprocessing import OneHotEncoder\n",
    "\n",
    "ohe = OneHotEncoder(sparse=False)\n",
    "# center_type\n",
    "data_cat = ohe.fit_transform(df[['center_id']])\n",
    "df_center = pd.concat([df.drop(columns=['center_id']),pd.DataFrame(data_cat, columns=['center_id' + str(col) for col in ohe.categories_[0]])], axis=1)\n",
    "\n",
    "# category\n",
    "data_cat = ohe.fit_transform(df[['meal_id']])\n",
    "train_df = pd.concat([df_center.drop(columns=['meal_id']),pd.DataFrame(data_cat, columns=['meal_id' + str(col) for col in ohe.categories_[0]])], axis=1)\n",
    "\n",
    "train_df.head()"
   ]
  },
  {
   "cell_type": "code",
   "execution_count": 4,
   "id": "28fea4fe",
   "metadata": {},
   "outputs": [],
   "source": [
    "from sklearn.model_selection import train_test_split\n",
    "\n",
    "X = train_df.drop('num_orders', axis=1)\n",
    "y = train_df['num_orders']"
   ]
  },
  {
   "cell_type": "code",
   "execution_count": 5,
   "id": "1487c320",
   "metadata": {},
   "outputs": [],
   "source": [
    "# train, test를 8:2로 나누기\n",
    "train_x, test_x, train_y, test_y = train_test_split(X, y, test_size=0.2, random_state=1)"
   ]
  },
  {
   "cell_type": "code",
   "execution_count": 6,
   "id": "30a7e633",
   "metadata": {},
   "outputs": [
    {
     "name": "stdout",
     "output_type": "stream",
     "text": [
      "(365238, 134)\n",
      "(91310, 134)\n",
      "(365238,)\n",
      "(91310,)\n"
     ]
    }
   ],
   "source": [
    "# shape 확인\n",
    "print(train_x.shape)\n",
    "print(test_x.shape)\n",
    "print(train_y.shape)\n",
    "print(test_y.shape)"
   ]
  },
  {
   "cell_type": "code",
   "execution_count": 7,
   "id": "a817de6f",
   "metadata": {},
   "outputs": [
    {
     "name": "stdout",
     "output_type": "stream",
     "text": [
      "\n",
      "MinMaxScaler: \n",
      "                  0              1              2              3    \\\n",
      "count  365238.000000  365238.000000  365238.000000  365238.000000   \n",
      "mean        0.500463       0.512199       0.381322       0.368321   \n",
      "std         0.288605       0.288422       0.177079       0.198021   \n",
      "min         0.000000       0.000000       0.000000       0.000000   \n",
      "25%         0.250648       0.263889       0.261763       0.232020   \n",
      "50%         0.500666       0.520833       0.339326       0.314556   \n",
      "75%         0.750459       0.763889       0.512290       0.497534   \n",
      "max         1.000000       1.000000       1.000000       1.000000   \n",
      "\n",
      "                 4              5              6             7    \\\n",
      "count  365238.000000  365238.000000  365238.000000  365238.00000   \n",
      "mean        0.081136       0.108822       0.015412       0.01504   \n",
      "std         0.273044       0.311416       0.123184       0.12171   \n",
      "min         0.000000       0.000000       0.000000       0.00000   \n",
      "25%         0.000000       0.000000       0.000000       0.00000   \n",
      "50%         0.000000       0.000000       0.000000       0.00000   \n",
      "75%         0.000000       0.000000       0.000000       0.00000   \n",
      "max         1.000000       1.000000       1.000000       1.00000   \n",
      "\n",
      "                 8              9    ...            124            125  \\\n",
      "count  365238.000000  365238.000000  ...  365238.000000  365238.000000   \n",
      "mean        0.015327       0.013197  ...       0.024127       0.022829   \n",
      "std         0.122850       0.114117  ...       0.153443       0.149358   \n",
      "min         0.000000       0.000000  ...       0.000000       0.000000   \n",
      "25%         0.000000       0.000000  ...       0.000000       0.000000   \n",
      "50%         0.000000       0.000000  ...       0.000000       0.000000   \n",
      "75%         0.000000       0.000000  ...       0.000000       0.000000   \n",
      "max         1.000000       1.000000  ...       1.000000       1.000000   \n",
      "\n",
      "                 126            127            128            129  \\\n",
      "count  365238.000000  365238.000000  365238.000000  365238.000000   \n",
      "mean        0.023653       0.021646       0.021731       0.024488   \n",
      "std         0.151966       0.145525       0.145804       0.154559   \n",
      "min         0.000000       0.000000       0.000000       0.000000   \n",
      "25%         0.000000       0.000000       0.000000       0.000000   \n",
      "50%         0.000000       0.000000       0.000000       0.000000   \n",
      "75%         0.000000       0.000000       0.000000       0.000000   \n",
      "max         1.000000       1.000000       1.000000       1.000000   \n",
      "\n",
      "                 130            131            132            133  \n",
      "count  365238.000000  365238.000000  365238.000000  365238.000000  \n",
      "mean        0.022240       0.024294       0.017753       0.007305  \n",
      "std         0.147464       0.153960       0.132052       0.085156  \n",
      "min         0.000000       0.000000       0.000000       0.000000  \n",
      "25%         0.000000       0.000000       0.000000       0.000000  \n",
      "50%         0.000000       0.000000       0.000000       0.000000  \n",
      "75%         0.000000       0.000000       0.000000       0.000000  \n",
      "max         1.000000       1.000000       1.000000       1.000000  \n",
      "\n",
      "[8 rows x 134 columns]\n"
     ]
    }
   ],
   "source": [
    "from sklearn.preprocessing import MinMaxScaler\n",
    "\n",
    "scaler = MinMaxScaler()\n",
    "scaler.fit(train_x)\n",
    "X_train_transformed = pd.DataFrame(scaler.transform(train_x))\n",
    "print(\"\\nMinMaxScaler: \\n\", X_train_transformed.describe())"
   ]
  },
  {
   "cell_type": "markdown",
   "id": "2574699a",
   "metadata": {},
   "source": [
    "# Random Forest"
   ]
  },
  {
   "cell_type": "code",
   "execution_count": 8,
   "id": "61d1be90",
   "metadata": {},
   "outputs": [],
   "source": [
    "# 모델 선언\n",
    "from sklearn.ensemble import RandomForestRegressor\n",
    "from sklearn.metrics import mean_squared_error\n",
    "\n",
    "rfr = RandomForestRegressor()"
   ]
  },
  {
   "cell_type": "code",
   "execution_count": 9,
   "id": "f5888cdc",
   "metadata": {},
   "outputs": [
    {
     "data": {
      "text/plain": [
       "RandomForestRegressor()"
      ]
     },
     "execution_count": 9,
     "metadata": {},
     "output_type": "execute_result"
    }
   ],
   "source": [
    "rfr.fit(train_x,train_y)"
   ]
  },
  {
   "cell_type": "code",
   "execution_count": 10,
   "id": "5e2db707",
   "metadata": {},
   "outputs": [
    {
     "data": {
      "text/plain": [
       "array([ 24.48, 391.76,  80.86, ..., 233.53, 616.98,  30.19])"
      ]
     },
     "execution_count": 10,
     "metadata": {},
     "output_type": "execute_result"
    }
   ],
   "source": [
    "test_pred = rfr.predict(test_x)\n",
    "test_pred"
   ]
  },
  {
   "cell_type": "code",
   "execution_count": 11,
   "id": "ebe11f57",
   "metadata": {},
   "outputs": [
    {
     "data": {
      "text/plain": [
       "166.79766195356905"
      ]
     },
     "execution_count": 11,
     "metadata": {},
     "output_type": "execute_result"
    }
   ],
   "source": [
    "from sklearn.metrics import mean_squared_error\n",
    "mean_squared_error(test_y, test_pred, squared = True)**0.5"
   ]
  },
  {
   "cell_type": "code",
   "execution_count": 12,
   "id": "1d40dda4",
   "metadata": {},
   "outputs": [
    {
     "name": "stdout",
     "output_type": "stream",
     "text": [
      "0.8220200347072915\n"
     ]
    }
   ],
   "source": [
    "from sklearn.metrics import r2_score\n",
    "print(r2_score(test_y, test_pred))"
   ]
  },
  {
   "cell_type": "markdown",
   "id": "c09a3c46",
   "metadata": {},
   "source": [
    "# Grid Search"
   ]
  },
  {
   "cell_type": "code",
   "execution_count": 13,
   "id": "0185ab6c",
   "metadata": {},
   "outputs": [],
   "source": [
    "from sklearn.model_selection import GridSearchCV\n",
    "\n",
    "params = { 'n_estimators' : [100],\n",
    "           'min_samples_leaf' : [1],\n",
    "           'min_samples_split' : [2],\n",
    "          'max_features' : [1]\n",
    "            }"
   ]
  },
  {
   "cell_type": "code",
   "execution_count": 14,
   "id": "490b67bf",
   "metadata": {},
   "outputs": [
    {
     "name": "stdout",
     "output_type": "stream",
     "text": [
      "Best Parameters :  {'max_features': 1, 'min_samples_leaf': 1, 'min_samples_split': 2, 'n_estimators': 100}\n",
      "Best Score :  -75.12358484851302\n"
     ]
    }
   ],
   "source": [
    "gs_s = GridSearchCV(rfr, param_grid = params,  scoring = 'neg_mean_absolute_error')\n",
    "gs_s.fit(train_x, train_y)\n",
    "\n",
    "print(\"Best Parameters : \", gs_s.best_params_)\n",
    "print(\"Best Score : \", gs_s.best_score_)"
   ]
  },
  {
   "cell_type": "code",
   "execution_count": 15,
   "id": "1425f62a",
   "metadata": {},
   "outputs": [
    {
     "data": {
      "text/plain": [
       "array([ 39.62, 255.45,  78.46, ..., 261.95, 565.63,  36.01])"
      ]
     },
     "execution_count": 15,
     "metadata": {},
     "output_type": "execute_result"
    }
   ],
   "source": [
    "test_gfs = gs_s.predict(test_x)\n",
    "test_gfs"
   ]
  },
  {
   "cell_type": "code",
   "execution_count": 16,
   "id": "4f8e446f",
   "metadata": {},
   "outputs": [
    {
     "data": {
      "text/plain": [
       "168.8963519518528"
      ]
     },
     "execution_count": 16,
     "metadata": {},
     "output_type": "execute_result"
    }
   ],
   "source": [
    "mean_squared_error(test_y, test_gfs, squared = True)**0.5"
   ]
  },
  {
   "cell_type": "code",
   "execution_count": 17,
   "id": "2484577b",
   "metadata": {},
   "outputs": [
    {
     "name": "stdout",
     "output_type": "stream",
     "text": [
      "0.8175130810747244\n"
     ]
    }
   ],
   "source": [
    "print(r2_score(test_y, test_gfs))"
   ]
  },
  {
   "cell_type": "markdown",
   "id": "fbd9b334",
   "metadata": {},
   "source": [
    "# Random Search"
   ]
  },
  {
   "cell_type": "code",
   "execution_count": 18,
   "id": "f70be287",
   "metadata": {},
   "outputs": [],
   "source": [
    "from sklearn.model_selection import RandomizedSearchCV"
   ]
  },
  {
   "cell_type": "code",
   "execution_count": 19,
   "id": "dd3b4582",
   "metadata": {},
   "outputs": [],
   "source": [
    "rfg = RandomForestRegressor()\n",
    "\n",
    "# Random Search 설정.\n",
    "rs_model = RandomizedSearchCV(rfg, params)"
   ]
  },
  {
   "cell_type": "code",
   "execution_count": 20,
   "id": "178eb2af",
   "metadata": {},
   "outputs": [
    {
     "name": "stderr",
     "output_type": "stream",
     "text": [
      "C:\\Users\\SisLab\\anaconda3\\envs\\soyeon\\lib\\site-packages\\sklearn\\model_selection\\_search.py:292: UserWarning: The total space of parameters 1 is smaller than n_iter=10. Running 1 iterations. For exhaustive searches, use GridSearchCV.\n",
      "  warnings.warn(\n"
     ]
    },
    {
     "data": {
      "text/plain": [
       "RandomizedSearchCV(estimator=RandomForestRegressor(),\n",
       "                   param_distributions={'max_features': [1],\n",
       "                                        'min_samples_leaf': [1],\n",
       "                                        'min_samples_split': [2],\n",
       "                                        'n_estimators': [100]})"
      ]
     },
     "execution_count": 20,
     "metadata": {},
     "output_type": "execute_result"
    }
   ],
   "source": [
    "rs_model.fit(train_x, train_y)"
   ]
  },
  {
   "cell_type": "code",
   "execution_count": 21,
   "id": "b73f8e16",
   "metadata": {},
   "outputs": [
    {
     "data": {
      "text/plain": [
       "array([ 28.38, 261.57,  83.49, ..., 255.22, 546.1 ,  38.36])"
      ]
     },
     "execution_count": 21,
     "metadata": {},
     "output_type": "execute_result"
    }
   ],
   "source": [
    "test_rs = rs_model.predict(test_x)\n",
    "test_rs"
   ]
  },
  {
   "cell_type": "code",
   "execution_count": 22,
   "id": "f60fc6c2",
   "metadata": {},
   "outputs": [
    {
     "data": {
      "text/plain": [
       "169.92475371873428"
      ]
     },
     "execution_count": 22,
     "metadata": {},
     "output_type": "execute_result"
    }
   ],
   "source": [
    "mean_squared_error(test_y, test_rs, squared = True)**0.5"
   ]
  },
  {
   "cell_type": "code",
   "execution_count": 23,
   "id": "64184706",
   "metadata": {},
   "outputs": [
    {
     "name": "stdout",
     "output_type": "stream",
     "text": [
      "0.8152840071594207\n"
     ]
    }
   ],
   "source": [
    "print(r2_score(test_y, test_rs))"
   ]
  },
  {
   "cell_type": "code",
   "execution_count": 24,
   "id": "b48ebcc4",
   "metadata": {},
   "outputs": [
    {
     "name": "stdout",
     "output_type": "stream",
     "text": [
      "RandomForest 점수비교\n",
      "---낮을수록 정확도가 높음---\n",
      "RandomForest :  166.79766195356905\n",
      "Grid Search :  168.8963519518528\n",
      "Random Search :  169.92475371873428\n"
     ]
    }
   ],
   "source": [
    "print(\"RandomForest 점수비교\")\n",
    "print(\"---낮을수록 정확도가 높음---\")\n",
    "print(\"RandomForest : \", mean_squared_error(test_y, test_pred, squared = True)**0.5)\n",
    "print(\"Grid Search : \", mean_squared_error(test_y, test_gfs, squared = True)**0.5)\n",
    "print(\"Random Search : \", mean_squared_error(test_y, test_rs, squared = True)**0.5)"
   ]
  },
  {
   "cell_type": "code",
   "execution_count": null,
   "id": "287334f8",
   "metadata": {},
   "outputs": [],
   "source": []
  }
 ],
 "metadata": {
  "kernelspec": {
   "display_name": "soyeon",
   "language": "python",
   "name": "soyeon"
  },
  "language_info": {
   "codemirror_mode": {
    "name": "ipython",
    "version": 3
   },
   "file_extension": ".py",
   "mimetype": "text/x-python",
   "name": "python",
   "nbconvert_exporter": "python",
   "pygments_lexer": "ipython3",
   "version": "3.9.12"
  }
 },
 "nbformat": 4,
 "nbformat_minor": 5
}
