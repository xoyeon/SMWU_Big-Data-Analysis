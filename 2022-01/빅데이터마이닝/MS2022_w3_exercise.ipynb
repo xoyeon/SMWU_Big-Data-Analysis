{
 "cells": [
  {
   "cell_type": "code",
   "execution_count": 1,
   "id": "aaee1d32",
   "metadata": {},
   "outputs": [
    {
     "name": "stdout",
     "output_type": "stream",
     "text": [
      "['910906', '201321']\n"
     ]
    }
   ],
   "source": [
    "#1번문제\n",
    "pin=\"910906-201321\"\n",
    "print(pin.split(\"-\"))"
   ]
  },
  {
   "cell_type": "code",
   "execution_count": 4,
   "id": "109c7a25",
   "metadata": {},
   "outputs": [
    {
     "name": "stdout",
     "output_type": "stream",
     "text": [
      "2\n"
     ]
    }
   ],
   "source": [
    "#2번문제\n",
    "pin=\"910906-201321\"\n",
    "print(pin[7])"
   ]
  },
  {
   "cell_type": "code",
   "execution_count": 5,
   "id": "4cba8cc8",
   "metadata": {},
   "outputs": [
    {
     "data": {
      "text/plain": [
       "'a#b#c#d'"
      ]
     },
     "execution_count": 5,
     "metadata": {},
     "output_type": "execute_result"
    }
   ],
   "source": [
    "#3번문제\n",
    "mystr = \"a:b:c:d\"\n",
    "mystr.replace(\":\",\"#\")"
   ]
  },
  {
   "cell_type": "code",
   "execution_count": 7,
   "id": "b0cfa614",
   "metadata": {},
   "outputs": [
    {
     "name": "stdout",
     "output_type": "stream",
     "text": [
      "wearehappy\n",
      "we are happy\n",
      "wearehappy\n",
      "wearehappy\n"
     ]
    }
   ],
   "source": [
    "#4번문제\n",
    "print(\"we\" \"are\" \"happy\")\n",
    "print(\"we\", \"are\", \"happy\")\n",
    "print(\"we\"+\"are\"+\"happy\")\n",
    "print(\"\".join([\"we\", \"are\", \"happy\"]))\n",
    "\n",
    "#정답은 2번"
   ]
  },
  {
   "cell_type": "code",
   "execution_count": 11,
   "id": "85f56834",
   "metadata": {},
   "outputs": [
    {
     "name": "stdout",
     "output_type": "stream",
     "text": [
      "We are happy\n"
     ]
    }
   ],
   "source": [
    "#5번문제\n",
    "mylist = ['We', 'are', 'happy']\n",
    "print(\" \".join(mylist))"
   ]
  },
  {
   "cell_type": "code",
   "execution_count": 1,
   "id": "3ffcc069",
   "metadata": {},
   "outputs": [
    {
     "name": "stdout",
     "output_type": "stream",
     "text": [
      "735\n"
     ]
    }
   ],
   "source": [
    "#6번문제\n",
    "a = 0\n",
    "sum = 0\n",
    "while a < 100:\n",
    "    a += 1\n",
    "    if (a % 7) != 0: continue\n",
    "    sum = sum +a\n",
    "print(sum)"
   ]
  },
  {
   "cell_type": "code",
   "execution_count": 2,
   "id": "f1bb5f33",
   "metadata": {},
   "outputs": [
    {
     "name": "stdout",
     "output_type": "stream",
     "text": [
      "70\n"
     ]
    }
   ],
   "source": [
    "#7번문제\n",
    "mydic={'A':90,'B':80}\n",
    "print(mydic.get('C',70))\n"
   ]
  },
  {
   "cell_type": "code",
   "execution_count": 7,
   "id": "0a92cb26",
   "metadata": {},
   "outputs": [
    {
     "name": "stdout",
     "output_type": "stream",
     "text": [
      "38.8722\n",
      "38.87\n"
     ]
    }
   ],
   "source": [
    "#8번문제\n",
    "meal=31.45\n",
    "tax_rate=meal*0.086\n",
    "tip=meal*0.15\n",
    "\n",
    "total_meal=meal+tax_rate+tip\n",
    "print(total_meal)\n",
    "print(\"{0:.2f}\".format(total_meal))"
   ]
  },
  {
   "cell_type": "code",
   "execution_count": 9,
   "id": "4eeef2d4",
   "metadata": {},
   "outputs": [
    {
     "name": "stdout",
     "output_type": "stream",
     "text": [
      "\"She's gone! Yon' Heathcliff's run off wi' her!\" gasped the girl.\n",
      "\"That is not true!\" exclaimed Linton, rising in agitation.\n"
     ]
    }
   ],
   "source": [
    "#9번문제\n",
    "print(\"\"\"\"She's gone! Yon' Heathcliff's run off wi' her!\" gasped the girl.\n",
    "\"That is not true!\" exclaimed Linton, rising in agitation.\"\"\")"
   ]
  },
  {
   "cell_type": "code",
   "execution_count": 21,
   "id": "c15caa1d",
   "metadata": {
    "scrolled": true
   },
   "outputs": [
    {
     "name": "stdout",
     "output_type": "stream",
     "text": [
      "13\n"
     ]
    }
   ],
   "source": [
    "#10번문제\n",
    "tx = 'Perfection requires the hand of time'\n",
    "count=0\n",
    "for i in ['a','e','i','o','u']:\n",
    "    if \"i\" in tx:\n",
    "        count+=tx.count(i)\n",
    "print(count)"
   ]
  },
  {
   "cell_type": "code",
   "execution_count": null,
   "id": "2d8a6eb8",
   "metadata": {},
   "outputs": [],
   "source": [
    "if text[index] in ['a', 'e', 'i', 'o', 'u']:  # 모음이면\n",
    "        count += 1                                # count 변숫값을 1 증가시킨다."
   ]
  },
  {
   "cell_type": "code",
   "execution_count": 42,
   "id": "523f7102",
   "metadata": {},
   "outputs": [
    {
     "name": "stdout",
     "output_type": "stream",
     "text": [
      "['머니볼', '아내를 모자로 착각한 남자', '이어령의 마지막 수업', '1984']\n",
      "['머니볼', '아내를 모자로 착각한 남자', '이어령의 마지막 수업', '1984', '골든아워', '오만과 편견']\n",
      "가나다 순서는  ['1984', '골든아워', '머니볼', '아내를 모자로 착각한 남자', '오만과 편견', '이어령의 마지막 수업']\n",
      "전체 권 수는  6\n"
     ]
    }
   ],
   "source": [
    "#11번문제\n",
    "stock=['호밀밭의 파수꾼','어린 왕자','머니볼','아내를 모자로 착각한 남자',\n",
    "       '이어령의 마지막 수업','1984']\n",
    "#삭제\n",
    "stock.remove('호밀밭의 파수꾼')\n",
    "stock.remove('어린 왕자')\n",
    "print(stock)\n",
    "\n",
    "#추가\n",
    "stock.append('골든아워')\n",
    "stock.append('오만과 편견')\n",
    "print(stock)\n",
    "\n",
    "#가다다 순서\n",
    "print(\"가나다 순서는 \",sorted(stock))\n",
    "#전체 몇 권\n",
    "print(\"전체 권 수는 \",len(stock))"
   ]
  },
  {
   "cell_type": "code",
   "execution_count": 1,
   "id": "e48da944",
   "metadata": {},
   "outputs": [],
   "source": [
    "#12번문제\n",
    "import random\n",
    "questions = [ '제일 좋아하는 과일이 뭐야?','과일은 빨간색이 최고지. 어떤 과일 좋아해?',\n",
    "             '사과 몰라? 제일 좋아하는 과일이 뭐냐니까?']\n",
    "answer=input(questions[0])\n",
    "while True:\n",
    "    if answer=='사과':\n",
    "        break\n",
    "    answer = input(random.choice(questions))\n",
    "        \n",
    "print('고마워')"
   ]
  },
  {
   "cell_type": "code",
   "execution_count": null,
   "id": "f80af515",
   "metadata": {},
   "outputs": [],
   "source": []
  }
 ],
 "metadata": {
  "kernelspec": {
   "display_name": "Python 3 (ipykernel)",
   "language": "python",
   "name": "python3"
  },
  "language_info": {
   "codemirror_mode": {
    "name": "ipython",
    "version": 3
   },
   "file_extension": ".py",
   "mimetype": "text/x-python",
   "name": "python",
   "nbconvert_exporter": "python",
   "pygments_lexer": "ipython3",
   "version": "3.8.8"
  }
 },
 "nbformat": 4,
 "nbformat_minor": 5
}
